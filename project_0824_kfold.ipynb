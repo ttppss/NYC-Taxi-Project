{
 "cells": [
  {
   "cell_type": "code",
   "execution_count": 1,
   "metadata": {},
   "outputs": [
    {
     "name": "stderr",
     "output_type": "stream",
     "text": [
      "/anaconda/lib/python3.6/site-packages/sklearn/cross_validation.py:44: DeprecationWarning: This module was deprecated in version 0.18 in favor of the model_selection module into which all the refactored classes and functions are moved. Also note that the interface of the new CV iterators are different from that of this module. This module will be removed in 0.20.\n",
      "  \"This module will be removed in 0.20.\", DeprecationWarning)\n",
      "/anaconda/lib/python3.6/site-packages/sklearn/grid_search.py:43: DeprecationWarning: This module was deprecated in version 0.18 in favor of the model_selection module into which all the refactored classes and functions are moved. This module will be removed in 0.20.\n",
      "  DeprecationWarning)\n"
     ]
    }
   ],
   "source": [
    "import pandas as pd\n",
    "import numpy as np\n",
    "import seaborn as sns\n",
    "import matplotlib.pyplot as plt\n",
    "from sklearn.cluster import MiniBatchKMeans\n",
    "from sklearn.model_selection import KFold\n",
    "from sklearn.grid_search import GridSearchCV\n",
    "from xgboost import XGBRegressor\n",
    "from xgboost import plot_importance\n",
    "%matplotlib inline"
   ]
  },
  {
   "cell_type": "code",
   "execution_count": 2,
   "metadata": {
    "collapsed": true
   },
   "outputs": [],
   "source": [
    "train = pd.read_csv(\"train.csv\")\n",
    "test = pd.read_csv(\"test.csv\")"
   ]
  },
  {
   "cell_type": "code",
   "execution_count": 3,
   "metadata": {},
   "outputs": [
    {
     "data": {
      "text/html": [
       "<div>\n",
       "<style>\n",
       "    .dataframe thead tr:only-child th {\n",
       "        text-align: right;\n",
       "    }\n",
       "\n",
       "    .dataframe thead th {\n",
       "        text-align: left;\n",
       "    }\n",
       "\n",
       "    .dataframe tbody tr th {\n",
       "        vertical-align: top;\n",
       "    }\n",
       "</style>\n",
       "<table border=\"1\" class=\"dataframe\">\n",
       "  <thead>\n",
       "    <tr style=\"text-align: right;\">\n",
       "      <th></th>\n",
       "      <th>id</th>\n",
       "      <th>vendor_id</th>\n",
       "      <th>pickup_datetime</th>\n",
       "      <th>dropoff_datetime</th>\n",
       "      <th>passenger_count</th>\n",
       "      <th>pickup_longitude</th>\n",
       "      <th>pickup_latitude</th>\n",
       "      <th>dropoff_longitude</th>\n",
       "      <th>dropoff_latitude</th>\n",
       "      <th>store_and_fwd_flag</th>\n",
       "      <th>trip_duration</th>\n",
       "    </tr>\n",
       "  </thead>\n",
       "  <tbody>\n",
       "    <tr>\n",
       "      <th>0</th>\n",
       "      <td>id2875421</td>\n",
       "      <td>2</td>\n",
       "      <td>2016-03-14 17:24:55</td>\n",
       "      <td>2016-03-14 17:32:30</td>\n",
       "      <td>1</td>\n",
       "      <td>-73.982155</td>\n",
       "      <td>40.767937</td>\n",
       "      <td>-73.964630</td>\n",
       "      <td>40.765602</td>\n",
       "      <td>N</td>\n",
       "      <td>455</td>\n",
       "    </tr>\n",
       "    <tr>\n",
       "      <th>1</th>\n",
       "      <td>id2377394</td>\n",
       "      <td>1</td>\n",
       "      <td>2016-06-12 00:43:35</td>\n",
       "      <td>2016-06-12 00:54:38</td>\n",
       "      <td>1</td>\n",
       "      <td>-73.980415</td>\n",
       "      <td>40.738564</td>\n",
       "      <td>-73.999481</td>\n",
       "      <td>40.731152</td>\n",
       "      <td>N</td>\n",
       "      <td>663</td>\n",
       "    </tr>\n",
       "    <tr>\n",
       "      <th>2</th>\n",
       "      <td>id3858529</td>\n",
       "      <td>2</td>\n",
       "      <td>2016-01-19 11:35:24</td>\n",
       "      <td>2016-01-19 12:10:48</td>\n",
       "      <td>1</td>\n",
       "      <td>-73.979027</td>\n",
       "      <td>40.763939</td>\n",
       "      <td>-74.005333</td>\n",
       "      <td>40.710087</td>\n",
       "      <td>N</td>\n",
       "      <td>2124</td>\n",
       "    </tr>\n",
       "    <tr>\n",
       "      <th>3</th>\n",
       "      <td>id3504673</td>\n",
       "      <td>2</td>\n",
       "      <td>2016-04-06 19:32:31</td>\n",
       "      <td>2016-04-06 19:39:40</td>\n",
       "      <td>1</td>\n",
       "      <td>-74.010040</td>\n",
       "      <td>40.719971</td>\n",
       "      <td>-74.012268</td>\n",
       "      <td>40.706718</td>\n",
       "      <td>N</td>\n",
       "      <td>429</td>\n",
       "    </tr>\n",
       "    <tr>\n",
       "      <th>4</th>\n",
       "      <td>id2181028</td>\n",
       "      <td>2</td>\n",
       "      <td>2016-03-26 13:30:55</td>\n",
       "      <td>2016-03-26 13:38:10</td>\n",
       "      <td>1</td>\n",
       "      <td>-73.973053</td>\n",
       "      <td>40.793209</td>\n",
       "      <td>-73.972923</td>\n",
       "      <td>40.782520</td>\n",
       "      <td>N</td>\n",
       "      <td>435</td>\n",
       "    </tr>\n",
       "  </tbody>\n",
       "</table>\n",
       "</div>"
      ],
      "text/plain": [
       "          id  vendor_id      pickup_datetime     dropoff_datetime  \\\n",
       "0  id2875421          2  2016-03-14 17:24:55  2016-03-14 17:32:30   \n",
       "1  id2377394          1  2016-06-12 00:43:35  2016-06-12 00:54:38   \n",
       "2  id3858529          2  2016-01-19 11:35:24  2016-01-19 12:10:48   \n",
       "3  id3504673          2  2016-04-06 19:32:31  2016-04-06 19:39:40   \n",
       "4  id2181028          2  2016-03-26 13:30:55  2016-03-26 13:38:10   \n",
       "\n",
       "   passenger_count  pickup_longitude  pickup_latitude  dropoff_longitude  \\\n",
       "0                1        -73.982155        40.767937         -73.964630   \n",
       "1                1        -73.980415        40.738564         -73.999481   \n",
       "2                1        -73.979027        40.763939         -74.005333   \n",
       "3                1        -74.010040        40.719971         -74.012268   \n",
       "4                1        -73.973053        40.793209         -73.972923   \n",
       "\n",
       "   dropoff_latitude store_and_fwd_flag  trip_duration  \n",
       "0         40.765602                  N            455  \n",
       "1         40.731152                  N            663  \n",
       "2         40.710087                  N           2124  \n",
       "3         40.706718                  N            429  \n",
       "4         40.782520                  N            435  "
      ]
     },
     "execution_count": 3,
     "metadata": {},
     "output_type": "execute_result"
    }
   ],
   "source": [
    "train.head()"
   ]
  },
  {
   "cell_type": "code",
   "execution_count": 4,
   "metadata": {},
   "outputs": [
    {
     "data": {
      "image/png": "[encoded data removed]",
      "text/plain": [
       "<matplotlib.figure.Figure at 0x11a633048>"
      ]
     },
     "metadata": {},
     "output_type": "display_data"
    }
   ],
   "source": [
    "sns.jointplot(x=\"pickup_longitude\", y=\"pickup_latitude\", data=train);"
   ]
  },
  {
   "cell_type": "code",
   "execution_count": 5,
   "metadata": {},
   "outputs": [
    {
     "data": {
      "text/html": [
       "<div>\n",
       "<style>\n",
       "    .dataframe thead tr:only-child th {\n",
       "        text-align: right;\n",
       "    }\n",
       "\n",
       "    .dataframe thead th {\n",
       "        text-align: left;\n",
       "    }\n",
       "\n",
       "    .dataframe tbody tr th {\n",
       "        vertical-align: top;\n",
       "    }\n",
       "</style>\n",
       "<table border=\"1\" class=\"dataframe\">\n",
       "  <thead>\n",
       "    <tr style=\"text-align: right;\">\n",
       "      <th></th>\n",
       "      <th>id</th>\n",
       "      <th>vendor_id</th>\n",
       "      <th>pickup_datetime</th>\n",
       "      <th>passenger_count</th>\n",
       "      <th>pickup_longitude</th>\n",
       "      <th>pickup_latitude</th>\n",
       "      <th>dropoff_longitude</th>\n",
       "      <th>dropoff_latitude</th>\n",
       "      <th>store_and_fwd_flag</th>\n",
       "    </tr>\n",
       "  </thead>\n",
       "  <tbody>\n",
       "    <tr>\n",
       "      <th>0</th>\n",
       "      <td>id3004672</td>\n",
       "      <td>1</td>\n",
       "      <td>2016-06-30 23:59:58</td>\n",
       "      <td>1</td>\n",
       "      <td>-73.988129</td>\n",
       "      <td>40.732029</td>\n",
       "      <td>-73.990173</td>\n",
       "      <td>40.756680</td>\n",
       "      <td>N</td>\n",
       "    </tr>\n",
       "    <tr>\n",
       "      <th>1</th>\n",
       "      <td>id3505355</td>\n",
       "      <td>1</td>\n",
       "      <td>2016-06-30 23:59:53</td>\n",
       "      <td>1</td>\n",
       "      <td>-73.964203</td>\n",
       "      <td>40.679993</td>\n",
       "      <td>-73.959808</td>\n",
       "      <td>40.655403</td>\n",
       "      <td>N</td>\n",
       "    </tr>\n",
       "    <tr>\n",
       "      <th>2</th>\n",
       "      <td>id1217141</td>\n",
       "      <td>1</td>\n",
       "      <td>2016-06-30 23:59:47</td>\n",
       "      <td>1</td>\n",
       "      <td>-73.997437</td>\n",
       "      <td>40.737583</td>\n",
       "      <td>-73.986160</td>\n",
       "      <td>40.729523</td>\n",
       "      <td>N</td>\n",
       "    </tr>\n",
       "    <tr>\n",
       "      <th>3</th>\n",
       "      <td>id2150126</td>\n",
       "      <td>2</td>\n",
       "      <td>2016-06-30 23:59:41</td>\n",
       "      <td>1</td>\n",
       "      <td>-73.956070</td>\n",
       "      <td>40.771900</td>\n",
       "      <td>-73.986427</td>\n",
       "      <td>40.730469</td>\n",
       "      <td>N</td>\n",
       "    </tr>\n",
       "    <tr>\n",
       "      <th>4</th>\n",
       "      <td>id1598245</td>\n",
       "      <td>1</td>\n",
       "      <td>2016-06-30 23:59:33</td>\n",
       "      <td>1</td>\n",
       "      <td>-73.970215</td>\n",
       "      <td>40.761475</td>\n",
       "      <td>-73.961510</td>\n",
       "      <td>40.755890</td>\n",
       "      <td>N</td>\n",
       "    </tr>\n",
       "  </tbody>\n",
       "</table>\n",
       "</div>"
      ],
      "text/plain": [
       "          id  vendor_id      pickup_datetime  passenger_count  \\\n",
       "0  id3004672          1  2016-06-30 23:59:58                1   \n",
       "1  id3505355          1  2016-06-30 23:59:53                1   \n",
       "2  id1217141          1  2016-06-30 23:59:47                1   \n",
       "3  id2150126          2  2016-06-30 23:59:41                1   \n",
       "4  id1598245          1  2016-06-30 23:59:33                1   \n",
       "\n",
       "   pickup_longitude  pickup_latitude  dropoff_longitude  dropoff_latitude  \\\n",
       "0        -73.988129        40.732029         -73.990173         40.756680   \n",
       "1        -73.964203        40.679993         -73.959808         40.655403   \n",
       "2        -73.997437        40.737583         -73.986160         40.729523   \n",
       "3        -73.956070        40.771900         -73.986427         40.730469   \n",
       "4        -73.970215        40.761475         -73.961510         40.755890   \n",
       "\n",
       "  store_and_fwd_flag  \n",
       "0                  N  \n",
       "1                  N  \n",
       "2                  N  \n",
       "3                  N  \n",
       "4                  N  "
      ]
     },
     "execution_count": 5,
     "metadata": {},
     "output_type": "execute_result"
    }
   ],
   "source": [
    "test.head()"
   ]
  },
  {
   "cell_type": "code",
   "execution_count": 6,
   "metadata": {},
   "outputs": [
    {
     "data": {
      "text/plain": [
       "(625134, 9)"
      ]
     },
     "execution_count": 6,
     "metadata": {},
     "output_type": "execute_result"
    }
   ],
   "source": [
    "test.shape"
   ]
  },
  {
   "cell_type": "code",
   "execution_count": 7,
   "metadata": {
    "collapsed": true
   },
   "outputs": [],
   "source": [
    "m = np.mean(train['trip_duration'])\n",
    "s = np.std(train['trip_duration'])\n",
    "train = train[(train['trip_duration'] <= m + 2*s) & (train['trip_duration'] >= m -2*s)]\n",
    "train = train[(train['pickup_longitude'] > -74.023822) & (train['pickup_latitude'] < 40.886345) & (train['pickup_longitude'] < -73.901599) & (train['pickup_latitude'] > 40.698160)]"
   ]
  },
  {
   "cell_type": "code",
   "execution_count": 8,
   "metadata": {
    "collapsed": true
   },
   "outputs": [],
   "source": [
    "test_id = test['id']"
   ]
  },
  {
   "cell_type": "code",
   "execution_count": 9,
   "metadata": {
    "collapsed": true
   },
   "outputs": [],
   "source": [
    "train['source'] = 'train'\n",
    "test['source'] = 'test'\n",
    "df = pd.concat([train, test], ignore_index=True)"
   ]
  },
  {
   "cell_type": "code",
   "execution_count": 10,
   "metadata": {
    "collapsed": true
   },
   "outputs": [],
   "source": [
    "#sns.jointplot(x = 'pickup_longitude', y = 'pickup_latitude', data = df, s = 4)"
   ]
  },
  {
   "cell_type": "code",
   "execution_count": 11,
   "metadata": {},
   "outputs": [
    {
     "name": "stdout",
     "output_type": "stream",
     "text": [
      "<class 'pandas.core.frame.DataFrame'>\n",
      "RangeIndex: 1990557 entries, 0 to 1990556\n",
      "Data columns (total 12 columns):\n",
      "dropoff_datetime      object\n",
      "dropoff_latitude      float64\n",
      "dropoff_longitude     float64\n",
      "id                    object\n",
      "passenger_count       int64\n",
      "pickup_datetime       object\n",
      "pickup_latitude       float64\n",
      "pickup_longitude      float64\n",
      "source                object\n",
      "store_and_fwd_flag    object\n",
      "trip_duration         float64\n",
      "vendor_id             int64\n",
      "dtypes: float64(5), int64(2), object(5)\n",
      "memory usage: 182.2+ MB\n"
     ]
    }
   ],
   "source": [
    "df.info()"
   ]
  },
  {
   "cell_type": "code",
   "execution_count": 12,
   "metadata": {},
   "outputs": [
    {
     "data": {
      "text/html": [
       "<div>\n",
       "<style>\n",
       "    .dataframe thead tr:only-child th {\n",
       "        text-align: right;\n",
       "    }\n",
       "\n",
       "    .dataframe thead th {\n",
       "        text-align: left;\n",
       "    }\n",
       "\n",
       "    .dataframe tbody tr th {\n",
       "        vertical-align: top;\n",
       "    }\n",
       "</style>\n",
       "<table border=\"1\" class=\"dataframe\">\n",
       "  <thead>\n",
       "    <tr style=\"text-align: right;\">\n",
       "      <th></th>\n",
       "      <th>dropoff_latitude</th>\n",
       "      <th>dropoff_longitude</th>\n",
       "      <th>passenger_count</th>\n",
       "      <th>pickup_latitude</th>\n",
       "      <th>pickup_longitude</th>\n",
       "      <th>trip_duration</th>\n",
       "      <th>vendor_id</th>\n",
       "    </tr>\n",
       "  </thead>\n",
       "  <tbody>\n",
       "    <tr>\n",
       "      <th>count</th>\n",
       "      <td>1.990557e+06</td>\n",
       "      <td>1.990557e+06</td>\n",
       "      <td>1.990557e+06</td>\n",
       "      <td>1.990557e+06</td>\n",
       "      <td>1.990557e+06</td>\n",
       "      <td>1.365423e+06</td>\n",
       "      <td>1.990557e+06</td>\n",
       "    </tr>\n",
       "    <tr>\n",
       "      <th>mean</th>\n",
       "      <td>4.075267e+01</td>\n",
       "      <td>-7.397441e+01</td>\n",
       "      <td>1.661832e+00</td>\n",
       "      <td>4.075285e+01</td>\n",
       "      <td>-7.397868e+01</td>\n",
       "      <td>7.723499e+02</td>\n",
       "      <td>1.533578e+00</td>\n",
       "    </tr>\n",
       "    <tr>\n",
       "      <th>std</th>\n",
       "      <td>3.258285e-02</td>\n",
       "      <td>4.933976e-02</td>\n",
       "      <td>1.312092e+00</td>\n",
       "      <td>2.481170e-02</td>\n",
       "      <td>4.366096e-02</td>\n",
       "      <td>5.596175e+02</td>\n",
       "      <td>4.988713e-01</td>\n",
       "    </tr>\n",
       "    <tr>\n",
       "      <th>min</th>\n",
       "      <td>3.639812e+01</td>\n",
       "      <td>-1.219333e+02</td>\n",
       "      <td>0.000000e+00</td>\n",
       "      <td>3.738959e+01</td>\n",
       "      <td>-1.219331e+02</td>\n",
       "      <td>1.000000e+00</td>\n",
       "      <td>1.000000e+00</td>\n",
       "    </tr>\n",
       "    <tr>\n",
       "      <th>25%</th>\n",
       "      <td>4.073701e+01</td>\n",
       "      <td>-7.399142e+01</td>\n",
       "      <td>1.000000e+00</td>\n",
       "      <td>4.073860e+01</td>\n",
       "      <td>-7.399226e+01</td>\n",
       "      <td>3.860000e+02</td>\n",
       "      <td>1.000000e+00</td>\n",
       "    </tr>\n",
       "    <tr>\n",
       "      <th>50%</th>\n",
       "      <td>4.075495e+01</td>\n",
       "      <td>-7.397997e+01</td>\n",
       "      <td>1.000000e+00</td>\n",
       "      <td>4.075438e+01</td>\n",
       "      <td>-7.398222e+01</td>\n",
       "      <td>6.350000e+02</td>\n",
       "      <td>2.000000e+00</td>\n",
       "    </tr>\n",
       "    <tr>\n",
       "      <th>75%</th>\n",
       "      <td>4.077022e+01</td>\n",
       "      <td>-7.396364e+01</td>\n",
       "      <td>2.000000e+00</td>\n",
       "      <td>4.076783e+01</td>\n",
       "      <td>-7.396950e+01</td>\n",
       "      <td>1.004000e+03</td>\n",
       "      <td>2.000000e+00</td>\n",
       "    </tr>\n",
       "    <tr>\n",
       "      <th>max</th>\n",
       "      <td>4.885760e+01</td>\n",
       "      <td>-6.749680e+01</td>\n",
       "      <td>9.000000e+00</td>\n",
       "      <td>4.281494e+01</td>\n",
       "      <td>-6.924892e+01</td>\n",
       "      <td>1.141100e+04</td>\n",
       "      <td>2.000000e+00</td>\n",
       "    </tr>\n",
       "  </tbody>\n",
       "</table>\n",
       "</div>"
      ],
      "text/plain": [
       "       dropoff_latitude  dropoff_longitude  passenger_count  pickup_latitude  \\\n",
       "count      1.990557e+06       1.990557e+06     1.990557e+06     1.990557e+06   \n",
       "mean       4.075267e+01      -7.397441e+01     1.661832e+00     4.075285e+01   \n",
       "std        3.258285e-02       4.933976e-02     1.312092e+00     2.481170e-02   \n",
       "min        3.639812e+01      -1.219333e+02     0.000000e+00     3.738959e+01   \n",
       "25%        4.073701e+01      -7.399142e+01     1.000000e+00     4.073860e+01   \n",
       "50%        4.075495e+01      -7.397997e+01     1.000000e+00     4.075438e+01   \n",
       "75%        4.077022e+01      -7.396364e+01     2.000000e+00     4.076783e+01   \n",
       "max        4.885760e+01      -6.749680e+01     9.000000e+00     4.281494e+01   \n",
       "\n",
       "       pickup_longitude  trip_duration     vendor_id  \n",
       "count      1.990557e+06   1.365423e+06  1.990557e+06  \n",
       "mean      -7.397868e+01   7.723499e+02  1.533578e+00  \n",
       "std        4.366096e-02   5.596175e+02  4.988713e-01  \n",
       "min       -1.219331e+02   1.000000e+00  1.000000e+00  \n",
       "25%       -7.399226e+01   3.860000e+02  1.000000e+00  \n",
       "50%       -7.398222e+01   6.350000e+02  2.000000e+00  \n",
       "75%       -7.396950e+01   1.004000e+03  2.000000e+00  \n",
       "max       -6.924892e+01   1.141100e+04  2.000000e+00  "
      ]
     },
     "execution_count": 12,
     "metadata": {},
     "output_type": "execute_result"
    }
   ],
   "source": [
    "df.describe()"
   ]
  },
  {
   "cell_type": "code",
   "execution_count": 13,
   "metadata": {},
   "outputs": [
    {
     "data": {
      "text/html": [
       "<div>\n",
       "<style>\n",
       "    .dataframe thead tr:only-child th {\n",
       "        text-align: right;\n",
       "    }\n",
       "\n",
       "    .dataframe thead th {\n",
       "        text-align: left;\n",
       "    }\n",
       "\n",
       "    .dataframe tbody tr th {\n",
       "        vertical-align: top;\n",
       "    }\n",
       "</style>\n",
       "<table border=\"1\" class=\"dataframe\">\n",
       "  <thead>\n",
       "    <tr style=\"text-align: right;\">\n",
       "      <th></th>\n",
       "      <th>dropoff_datetime</th>\n",
       "      <th>dropoff_latitude</th>\n",
       "      <th>dropoff_longitude</th>\n",
       "      <th>id</th>\n",
       "      <th>passenger_count</th>\n",
       "      <th>pickup_datetime</th>\n",
       "      <th>pickup_latitude</th>\n",
       "      <th>pickup_longitude</th>\n",
       "      <th>source</th>\n",
       "      <th>store_and_fwd_flag</th>\n",
       "      <th>trip_duration</th>\n",
       "      <th>vendor_id</th>\n",
       "    </tr>\n",
       "  </thead>\n",
       "  <tbody>\n",
       "    <tr>\n",
       "      <th>0</th>\n",
       "      <td>2016-03-14 17:32:30</td>\n",
       "      <td>40.765602</td>\n",
       "      <td>-73.964630</td>\n",
       "      <td>id2875421</td>\n",
       "      <td>1</td>\n",
       "      <td>2016-03-14 17:24:55</td>\n",
       "      <td>40.767937</td>\n",
       "      <td>-73.982155</td>\n",
       "      <td>train</td>\n",
       "      <td>N</td>\n",
       "      <td>455.0</td>\n",
       "      <td>2</td>\n",
       "    </tr>\n",
       "    <tr>\n",
       "      <th>1</th>\n",
       "      <td>2016-06-12 00:54:38</td>\n",
       "      <td>40.731152</td>\n",
       "      <td>-73.999481</td>\n",
       "      <td>id2377394</td>\n",
       "      <td>1</td>\n",
       "      <td>2016-06-12 00:43:35</td>\n",
       "      <td>40.738564</td>\n",
       "      <td>-73.980415</td>\n",
       "      <td>train</td>\n",
       "      <td>N</td>\n",
       "      <td>663.0</td>\n",
       "      <td>1</td>\n",
       "    </tr>\n",
       "    <tr>\n",
       "      <th>2</th>\n",
       "      <td>2016-01-19 12:10:48</td>\n",
       "      <td>40.710087</td>\n",
       "      <td>-74.005333</td>\n",
       "      <td>id3858529</td>\n",
       "      <td>1</td>\n",
       "      <td>2016-01-19 11:35:24</td>\n",
       "      <td>40.763939</td>\n",
       "      <td>-73.979027</td>\n",
       "      <td>train</td>\n",
       "      <td>N</td>\n",
       "      <td>2124.0</td>\n",
       "      <td>2</td>\n",
       "    </tr>\n",
       "    <tr>\n",
       "      <th>3</th>\n",
       "      <td>2016-04-06 19:39:40</td>\n",
       "      <td>40.706718</td>\n",
       "      <td>-74.012268</td>\n",
       "      <td>id3504673</td>\n",
       "      <td>1</td>\n",
       "      <td>2016-04-06 19:32:31</td>\n",
       "      <td>40.719971</td>\n",
       "      <td>-74.010040</td>\n",
       "      <td>train</td>\n",
       "      <td>N</td>\n",
       "      <td>429.0</td>\n",
       "      <td>2</td>\n",
       "    </tr>\n",
       "    <tr>\n",
       "      <th>4</th>\n",
       "      <td>2016-03-26 13:38:10</td>\n",
       "      <td>40.782520</td>\n",
       "      <td>-73.972923</td>\n",
       "      <td>id2181028</td>\n",
       "      <td>1</td>\n",
       "      <td>2016-03-26 13:30:55</td>\n",
       "      <td>40.793209</td>\n",
       "      <td>-73.973053</td>\n",
       "      <td>train</td>\n",
       "      <td>N</td>\n",
       "      <td>435.0</td>\n",
       "      <td>2</td>\n",
       "    </tr>\n",
       "  </tbody>\n",
       "</table>\n",
       "</div>"
      ],
      "text/plain": [
       "      dropoff_datetime  dropoff_latitude  dropoff_longitude         id  \\\n",
       "0  2016-03-14 17:32:30         40.765602         -73.964630  id2875421   \n",
       "1  2016-06-12 00:54:38         40.731152         -73.999481  id2377394   \n",
       "2  2016-01-19 12:10:48         40.710087         -74.005333  id3858529   \n",
       "3  2016-04-06 19:39:40         40.706718         -74.012268  id3504673   \n",
       "4  2016-03-26 13:38:10         40.782520         -73.972923  id2181028   \n",
       "\n",
       "   passenger_count      pickup_datetime  pickup_latitude  pickup_longitude  \\\n",
       "0                1  2016-03-14 17:24:55        40.767937        -73.982155   \n",
       "1                1  2016-06-12 00:43:35        40.738564        -73.980415   \n",
       "2                1  2016-01-19 11:35:24        40.763939        -73.979027   \n",
       "3                1  2016-04-06 19:32:31        40.719971        -74.010040   \n",
       "4                1  2016-03-26 13:30:55        40.793209        -73.973053   \n",
       "\n",
       "  source store_and_fwd_flag  trip_duration  vendor_id  \n",
       "0  train                  N          455.0          2  \n",
       "1  train                  N          663.0          1  \n",
       "2  train                  N         2124.0          2  \n",
       "3  train                  N          429.0          2  \n",
       "4  train                  N          435.0          2  "
      ]
     },
     "execution_count": 13,
     "metadata": {},
     "output_type": "execute_result"
    }
   ],
   "source": [
    "df.head()"
   ]
  },
  {
   "cell_type": "code",
   "execution_count": 14,
   "metadata": {
    "collapsed": true
   },
   "outputs": [],
   "source": [
    "df['pickup_datetime'] = pd.to_datetime(df['pickup_datetime'])\n",
    "df['pickup_month'] = df['pickup_datetime'].dt.month\n",
    "df['pickup_day_of_week'] = df['pickup_datetime'].dt.dayofweek\n",
    "df['pickup_day'] = df['pickup_datetime'].dt.day\n",
    "df['pickup_hour'] = df['pickup_datetime'].dt.hour"
   ]
  },
  {
   "cell_type": "code",
   "execution_count": 15,
   "metadata": {
    "collapsed": true
   },
   "outputs": [],
   "source": [
    "df['dropoff_datetime'] = pd.to_datetime(df['dropoff_datetime'])"
   ]
  },
  {
   "cell_type": "code",
   "execution_count": 16,
   "metadata": {
    "collapsed": true
   },
   "outputs": [],
   "source": [
    "df['dropoff_month'] = df['dropoff_datetime'].dt.month\n",
    "df['dropoff_day_of_week'] = df['dropoff_datetime'].dt.dayofweek\n",
    "df['dropoff_day'] = df['dropoff_datetime'].dt.day\n",
    "df['dropoff_hour'] = df['dropoff_datetime'].dt.hour"
   ]
  },
  {
   "cell_type": "code",
   "execution_count": 17,
   "metadata": {},
   "outputs": [
    {
     "data": {
      "text/html": [
       "<div>\n",
       "<style>\n",
       "    .dataframe thead tr:only-child th {\n",
       "        text-align: right;\n",
       "    }\n",
       "\n",
       "    .dataframe thead th {\n",
       "        text-align: left;\n",
       "    }\n",
       "\n",
       "    .dataframe tbody tr th {\n",
       "        vertical-align: top;\n",
       "    }\n",
       "</style>\n",
       "<table border=\"1\" class=\"dataframe\">\n",
       "  <thead>\n",
       "    <tr style=\"text-align: right;\">\n",
       "      <th></th>\n",
       "      <th>dropoff_datetime</th>\n",
       "      <th>dropoff_latitude</th>\n",
       "      <th>dropoff_longitude</th>\n",
       "      <th>id</th>\n",
       "      <th>passenger_count</th>\n",
       "      <th>pickup_datetime</th>\n",
       "      <th>pickup_latitude</th>\n",
       "      <th>pickup_longitude</th>\n",
       "      <th>source</th>\n",
       "      <th>store_and_fwd_flag</th>\n",
       "      <th>trip_duration</th>\n",
       "      <th>vendor_id</th>\n",
       "      <th>pickup_month</th>\n",
       "      <th>pickup_day_of_week</th>\n",
       "      <th>pickup_day</th>\n",
       "      <th>pickup_hour</th>\n",
       "      <th>dropoff_month</th>\n",
       "      <th>dropoff_day_of_week</th>\n",
       "      <th>dropoff_day</th>\n",
       "      <th>dropoff_hour</th>\n",
       "    </tr>\n",
       "  </thead>\n",
       "  <tbody>\n",
       "    <tr>\n",
       "      <th>0</th>\n",
       "      <td>2016-03-14 17:32:30</td>\n",
       "      <td>40.765602</td>\n",
       "      <td>-73.964630</td>\n",
       "      <td>id2875421</td>\n",
       "      <td>1</td>\n",
       "      <td>2016-03-14 17:24:55</td>\n",
       "      <td>40.767937</td>\n",
       "      <td>-73.982155</td>\n",
       "      <td>train</td>\n",
       "      <td>N</td>\n",
       "      <td>455.0</td>\n",
       "      <td>2</td>\n",
       "      <td>3</td>\n",
       "      <td>0</td>\n",
       "      <td>14</td>\n",
       "      <td>17</td>\n",
       "      <td>3.0</td>\n",
       "      <td>0.0</td>\n",
       "      <td>14.0</td>\n",
       "      <td>17.0</td>\n",
       "    </tr>\n",
       "    <tr>\n",
       "      <th>1</th>\n",
       "      <td>2016-06-12 00:54:38</td>\n",
       "      <td>40.731152</td>\n",
       "      <td>-73.999481</td>\n",
       "      <td>id2377394</td>\n",
       "      <td>1</td>\n",
       "      <td>2016-06-12 00:43:35</td>\n",
       "      <td>40.738564</td>\n",
       "      <td>-73.980415</td>\n",
       "      <td>train</td>\n",
       "      <td>N</td>\n",
       "      <td>663.0</td>\n",
       "      <td>1</td>\n",
       "      <td>6</td>\n",
       "      <td>6</td>\n",
       "      <td>12</td>\n",
       "      <td>0</td>\n",
       "      <td>6.0</td>\n",
       "      <td>6.0</td>\n",
       "      <td>12.0</td>\n",
       "      <td>0.0</td>\n",
       "    </tr>\n",
       "    <tr>\n",
       "      <th>2</th>\n",
       "      <td>2016-01-19 12:10:48</td>\n",
       "      <td>40.710087</td>\n",
       "      <td>-74.005333</td>\n",
       "      <td>id3858529</td>\n",
       "      <td>1</td>\n",
       "      <td>2016-01-19 11:35:24</td>\n",
       "      <td>40.763939</td>\n",
       "      <td>-73.979027</td>\n",
       "      <td>train</td>\n",
       "      <td>N</td>\n",
       "      <td>2124.0</td>\n",
       "      <td>2</td>\n",
       "      <td>1</td>\n",
       "      <td>1</td>\n",
       "      <td>19</td>\n",
       "      <td>11</td>\n",
       "      <td>1.0</td>\n",
       "      <td>1.0</td>\n",
       "      <td>19.0</td>\n",
       "      <td>12.0</td>\n",
       "    </tr>\n",
       "    <tr>\n",
       "      <th>3</th>\n",
       "      <td>2016-04-06 19:39:40</td>\n",
       "      <td>40.706718</td>\n",
       "      <td>-74.012268</td>\n",
       "      <td>id3504673</td>\n",
       "      <td>1</td>\n",
       "      <td>2016-04-06 19:32:31</td>\n",
       "      <td>40.719971</td>\n",
       "      <td>-74.010040</td>\n",
       "      <td>train</td>\n",
       "      <td>N</td>\n",
       "      <td>429.0</td>\n",
       "      <td>2</td>\n",
       "      <td>4</td>\n",
       "      <td>2</td>\n",
       "      <td>6</td>\n",
       "      <td>19</td>\n",
       "      <td>4.0</td>\n",
       "      <td>2.0</td>\n",
       "      <td>6.0</td>\n",
       "      <td>19.0</td>\n",
       "    </tr>\n",
       "    <tr>\n",
       "      <th>4</th>\n",
       "      <td>2016-03-26 13:38:10</td>\n",
       "      <td>40.782520</td>\n",
       "      <td>-73.972923</td>\n",
       "      <td>id2181028</td>\n",
       "      <td>1</td>\n",
       "      <td>2016-03-26 13:30:55</td>\n",
       "      <td>40.793209</td>\n",
       "      <td>-73.973053</td>\n",
       "      <td>train</td>\n",
       "      <td>N</td>\n",
       "      <td>435.0</td>\n",
       "      <td>2</td>\n",
       "      <td>3</td>\n",
       "      <td>5</td>\n",
       "      <td>26</td>\n",
       "      <td>13</td>\n",
       "      <td>3.0</td>\n",
       "      <td>5.0</td>\n",
       "      <td>26.0</td>\n",
       "      <td>13.0</td>\n",
       "    </tr>\n",
       "  </tbody>\n",
       "</table>\n",
       "</div>"
      ],
      "text/plain": [
       "     dropoff_datetime  dropoff_latitude  dropoff_longitude         id  \\\n",
       "0 2016-03-14 17:32:30         40.765602         -73.964630  id2875421   \n",
       "1 2016-06-12 00:54:38         40.731152         -73.999481  id2377394   \n",
       "2 2016-01-19 12:10:48         40.710087         -74.005333  id3858529   \n",
       "3 2016-04-06 19:39:40         40.706718         -74.012268  id3504673   \n",
       "4 2016-03-26 13:38:10         40.782520         -73.972923  id2181028   \n",
       "\n",
       "   passenger_count     pickup_datetime  pickup_latitude  pickup_longitude  \\\n",
       "0                1 2016-03-14 17:24:55        40.767937        -73.982155   \n",
       "1                1 2016-06-12 00:43:35        40.738564        -73.980415   \n",
       "2                1 2016-01-19 11:35:24        40.763939        -73.979027   \n",
       "3                1 2016-04-06 19:32:31        40.719971        -74.010040   \n",
       "4                1 2016-03-26 13:30:55        40.793209        -73.973053   \n",
       "\n",
       "  source store_and_fwd_flag  trip_duration  vendor_id  pickup_month  \\\n",
       "0  train                  N          455.0          2             3   \n",
       "1  train                  N          663.0          1             6   \n",
       "2  train                  N         2124.0          2             1   \n",
       "3  train                  N          429.0          2             4   \n",
       "4  train                  N          435.0          2             3   \n",
       "\n",
       "   pickup_day_of_week  pickup_day  pickup_hour  dropoff_month  \\\n",
       "0                   0          14           17            3.0   \n",
       "1                   6          12            0            6.0   \n",
       "2                   1          19           11            1.0   \n",
       "3                   2           6           19            4.0   \n",
       "4                   5          26           13            3.0   \n",
       "\n",
       "   dropoff_day_of_week  dropoff_day  dropoff_hour  \n",
       "0                  0.0         14.0          17.0  \n",
       "1                  6.0         12.0           0.0  \n",
       "2                  1.0         19.0          12.0  \n",
       "3                  2.0          6.0          19.0  \n",
       "4                  5.0         26.0          13.0  "
      ]
     },
     "execution_count": 17,
     "metadata": {},
     "output_type": "execute_result"
    }
   ],
   "source": [
    "df.head()"
   ]
  },
  {
   "cell_type": "code",
   "execution_count": 18,
   "metadata": {
    "collapsed": true
   },
   "outputs": [],
   "source": [
    "coords = np.vstack((df[['pickup_latitude', 'pickup_longitude']],\n",
    "                    df[['dropoff_latitude', 'dropoff_longitude']]))\n",
    "sample_ind = np.random.permutation(len(coords))[:1000000]\n",
    "kmeans = MiniBatchKMeans(n_clusters=100, batch_size=20000).fit(coords[sample_ind])"
   ]
  },
  {
   "cell_type": "code",
   "execution_count": 19,
   "metadata": {
    "collapsed": true
   },
   "outputs": [],
   "source": [
    "df['pickup_cluster'] = kmeans.predict(df[['pickup_latitude', 'pickup_longitude']])\n",
    "df['dropoff_cluster'] = kmeans.predict(df[['dropoff_latitude', 'dropoff_longitude']])"
   ]
  },
  {
   "cell_type": "code",
   "execution_count": 20,
   "metadata": {},
   "outputs": [
    {
     "data": {
      "text/html": [
       "<div>\n",
       "<style>\n",
       "    .dataframe thead tr:only-child th {\n",
       "        text-align: right;\n",
       "    }\n",
       "\n",
       "    .dataframe thead th {\n",
       "        text-align: left;\n",
       "    }\n",
       "\n",
       "    .dataframe tbody tr th {\n",
       "        vertical-align: top;\n",
       "    }\n",
       "</style>\n",
       "<table border=\"1\" class=\"dataframe\">\n",
       "  <thead>\n",
       "    <tr style=\"text-align: right;\">\n",
       "      <th></th>\n",
       "      <th>dropoff_datetime</th>\n",
       "      <th>dropoff_latitude</th>\n",
       "      <th>dropoff_longitude</th>\n",
       "      <th>id</th>\n",
       "      <th>passenger_count</th>\n",
       "      <th>pickup_datetime</th>\n",
       "      <th>pickup_latitude</th>\n",
       "      <th>pickup_longitude</th>\n",
       "      <th>source</th>\n",
       "      <th>store_and_fwd_flag</th>\n",
       "      <th>...</th>\n",
       "      <th>pickup_month</th>\n",
       "      <th>pickup_day_of_week</th>\n",
       "      <th>pickup_day</th>\n",
       "      <th>pickup_hour</th>\n",
       "      <th>dropoff_month</th>\n",
       "      <th>dropoff_day_of_week</th>\n",
       "      <th>dropoff_day</th>\n",
       "      <th>dropoff_hour</th>\n",
       "      <th>pickup_cluster</th>\n",
       "      <th>dropoff_cluster</th>\n",
       "    </tr>\n",
       "  </thead>\n",
       "  <tbody>\n",
       "    <tr>\n",
       "      <th>0</th>\n",
       "      <td>2016-03-14 17:32:30</td>\n",
       "      <td>40.765602</td>\n",
       "      <td>-73.964630</td>\n",
       "      <td>id2875421</td>\n",
       "      <td>1</td>\n",
       "      <td>2016-03-14 17:24:55</td>\n",
       "      <td>40.767937</td>\n",
       "      <td>-73.982155</td>\n",
       "      <td>train</td>\n",
       "      <td>N</td>\n",
       "      <td>...</td>\n",
       "      <td>3</td>\n",
       "      <td>0</td>\n",
       "      <td>14</td>\n",
       "      <td>17</td>\n",
       "      <td>3.0</td>\n",
       "      <td>0.0</td>\n",
       "      <td>14.0</td>\n",
       "      <td>17.0</td>\n",
       "      <td>16</td>\n",
       "      <td>71</td>\n",
       "    </tr>\n",
       "    <tr>\n",
       "      <th>1</th>\n",
       "      <td>2016-06-12 00:54:38</td>\n",
       "      <td>40.731152</td>\n",
       "      <td>-73.999481</td>\n",
       "      <td>id2377394</td>\n",
       "      <td>1</td>\n",
       "      <td>2016-06-12 00:43:35</td>\n",
       "      <td>40.738564</td>\n",
       "      <td>-73.980415</td>\n",
       "      <td>train</td>\n",
       "      <td>N</td>\n",
       "      <td>...</td>\n",
       "      <td>6</td>\n",
       "      <td>6</td>\n",
       "      <td>12</td>\n",
       "      <td>0</td>\n",
       "      <td>6.0</td>\n",
       "      <td>6.0</td>\n",
       "      <td>12.0</td>\n",
       "      <td>0.0</td>\n",
       "      <td>31</td>\n",
       "      <td>51</td>\n",
       "    </tr>\n",
       "    <tr>\n",
       "      <th>2</th>\n",
       "      <td>2016-01-19 12:10:48</td>\n",
       "      <td>40.710087</td>\n",
       "      <td>-74.005333</td>\n",
       "      <td>id3858529</td>\n",
       "      <td>1</td>\n",
       "      <td>2016-01-19 11:35:24</td>\n",
       "      <td>40.763939</td>\n",
       "      <td>-73.979027</td>\n",
       "      <td>train</td>\n",
       "      <td>N</td>\n",
       "      <td>...</td>\n",
       "      <td>1</td>\n",
       "      <td>1</td>\n",
       "      <td>19</td>\n",
       "      <td>11</td>\n",
       "      <td>1.0</td>\n",
       "      <td>1.0</td>\n",
       "      <td>19.0</td>\n",
       "      <td>12.0</td>\n",
       "      <td>85</td>\n",
       "      <td>55</td>\n",
       "    </tr>\n",
       "    <tr>\n",
       "      <th>3</th>\n",
       "      <td>2016-04-06 19:39:40</td>\n",
       "      <td>40.706718</td>\n",
       "      <td>-74.012268</td>\n",
       "      <td>id3504673</td>\n",
       "      <td>1</td>\n",
       "      <td>2016-04-06 19:32:31</td>\n",
       "      <td>40.719971</td>\n",
       "      <td>-74.010040</td>\n",
       "      <td>train</td>\n",
       "      <td>N</td>\n",
       "      <td>...</td>\n",
       "      <td>4</td>\n",
       "      <td>2</td>\n",
       "      <td>6</td>\n",
       "      <td>19</td>\n",
       "      <td>4.0</td>\n",
       "      <td>2.0</td>\n",
       "      <td>6.0</td>\n",
       "      <td>19.0</td>\n",
       "      <td>78</td>\n",
       "      <td>48</td>\n",
       "    </tr>\n",
       "    <tr>\n",
       "      <th>4</th>\n",
       "      <td>2016-03-26 13:38:10</td>\n",
       "      <td>40.782520</td>\n",
       "      <td>-73.972923</td>\n",
       "      <td>id2181028</td>\n",
       "      <td>1</td>\n",
       "      <td>2016-03-26 13:30:55</td>\n",
       "      <td>40.793209</td>\n",
       "      <td>-73.973053</td>\n",
       "      <td>train</td>\n",
       "      <td>N</td>\n",
       "      <td>...</td>\n",
       "      <td>3</td>\n",
       "      <td>5</td>\n",
       "      <td>26</td>\n",
       "      <td>13</td>\n",
       "      <td>3.0</td>\n",
       "      <td>5.0</td>\n",
       "      <td>26.0</td>\n",
       "      <td>13.0</td>\n",
       "      <td>60</td>\n",
       "      <td>92</td>\n",
       "    </tr>\n",
       "  </tbody>\n",
       "</table>\n",
       "<p>5 rows × 22 columns</p>\n",
       "</div>"
      ],
      "text/plain": [
       "     dropoff_datetime  dropoff_latitude  dropoff_longitude         id  \\\n",
       "0 2016-03-14 17:32:30         40.765602         -73.964630  id2875421   \n",
       "1 2016-06-12 00:54:38         40.731152         -73.999481  id2377394   \n",
       "2 2016-01-19 12:10:48         40.710087         -74.005333  id3858529   \n",
       "3 2016-04-06 19:39:40         40.706718         -74.012268  id3504673   \n",
       "4 2016-03-26 13:38:10         40.782520         -73.972923  id2181028   \n",
       "\n",
       "   passenger_count     pickup_datetime  pickup_latitude  pickup_longitude  \\\n",
       "0                1 2016-03-14 17:24:55        40.767937        -73.982155   \n",
       "1                1 2016-06-12 00:43:35        40.738564        -73.980415   \n",
       "2                1 2016-01-19 11:35:24        40.763939        -73.979027   \n",
       "3                1 2016-04-06 19:32:31        40.719971        -74.010040   \n",
       "4                1 2016-03-26 13:30:55        40.793209        -73.973053   \n",
       "\n",
       "  source store_and_fwd_flag       ...         pickup_month  \\\n",
       "0  train                  N       ...                    3   \n",
       "1  train                  N       ...                    6   \n",
       "2  train                  N       ...                    1   \n",
       "3  train                  N       ...                    4   \n",
       "4  train                  N       ...                    3   \n",
       "\n",
       "   pickup_day_of_week  pickup_day  pickup_hour  dropoff_month  \\\n",
       "0                   0          14           17            3.0   \n",
       "1                   6          12            0            6.0   \n",
       "2                   1          19           11            1.0   \n",
       "3                   2           6           19            4.0   \n",
       "4                   5          26           13            3.0   \n",
       "\n",
       "   dropoff_day_of_week  dropoff_day  dropoff_hour  pickup_cluster  \\\n",
       "0                  0.0         14.0          17.0              16   \n",
       "1                  6.0         12.0           0.0              31   \n",
       "2                  1.0         19.0          12.0              85   \n",
       "3                  2.0          6.0          19.0              78   \n",
       "4                  5.0         26.0          13.0              60   \n",
       "\n",
       "   dropoff_cluster  \n",
       "0               71  \n",
       "1               51  \n",
       "2               55  \n",
       "3               48  \n",
       "4               92  \n",
       "\n",
       "[5 rows x 22 columns]"
      ]
     },
     "execution_count": 20,
     "metadata": {},
     "output_type": "execute_result"
    }
   ],
   "source": [
    "df.head()"
   ]
  },
  {
   "cell_type": "code",
   "execution_count": 21,
   "metadata": {},
   "outputs": [
    {
     "name": "stdout",
     "output_type": "stream",
     "text": [
      "<class 'pandas.core.frame.DataFrame'>\n",
      "RangeIndex: 1990557 entries, 0 to 1990556\n",
      "Data columns (total 22 columns):\n",
      "dropoff_datetime       datetime64[ns]\n",
      "dropoff_latitude       float64\n",
      "dropoff_longitude      float64\n",
      "id                     object\n",
      "passenger_count        int64\n",
      "pickup_datetime        datetime64[ns]\n",
      "pickup_latitude        float64\n",
      "pickup_longitude       float64\n",
      "source                 object\n",
      "store_and_fwd_flag     object\n",
      "trip_duration          float64\n",
      "vendor_id              int64\n",
      "pickup_month           int64\n",
      "pickup_day_of_week     int64\n",
      "pickup_day             int64\n",
      "pickup_hour            int64\n",
      "dropoff_month          float64\n",
      "dropoff_day_of_week    float64\n",
      "dropoff_day            float64\n",
      "dropoff_hour           float64\n",
      "pickup_cluster         int32\n",
      "dropoff_cluster        int32\n",
      "dtypes: datetime64[ns](2), float64(9), int32(2), int64(6), object(3)\n",
      "memory usage: 318.9+ MB\n"
     ]
    }
   ],
   "source": [
    "df.info()"
   ]
  },
  {
   "cell_type": "code",
   "execution_count": 22,
   "metadata": {
    "collapsed": true
   },
   "outputs": [],
   "source": [
    "df = df.drop(['store_and_fwd_flag'], axis = 1)"
   ]
  },
  {
   "cell_type": "code",
   "execution_count": 23,
   "metadata": {},
   "outputs": [
    {
     "name": "stdout",
     "output_type": "stream",
     "text": [
      "<class 'pandas.core.frame.DataFrame'>\n",
      "RangeIndex: 1990557 entries, 0 to 1990556\n",
      "Data columns (total 21 columns):\n",
      "dropoff_datetime       datetime64[ns]\n",
      "dropoff_latitude       float64\n",
      "dropoff_longitude      float64\n",
      "id                     object\n",
      "passenger_count        int64\n",
      "pickup_datetime        datetime64[ns]\n",
      "pickup_latitude        float64\n",
      "pickup_longitude       float64\n",
      "source                 object\n",
      "trip_duration          float64\n",
      "vendor_id              int64\n",
      "pickup_month           int64\n",
      "pickup_day_of_week     int64\n",
      "pickup_day             int64\n",
      "pickup_hour            int64\n",
      "dropoff_month          float64\n",
      "dropoff_day_of_week    float64\n",
      "dropoff_day            float64\n",
      "dropoff_hour           float64\n",
      "pickup_cluster         int32\n",
      "dropoff_cluster        int32\n",
      "dtypes: datetime64[ns](2), float64(9), int32(2), int64(6), object(2)\n",
      "memory usage: 303.7+ MB\n"
     ]
    }
   ],
   "source": [
    "df.info()"
   ]
  },
  {
   "cell_type": "code",
   "execution_count": 24,
   "metadata": {
    "collapsed": true
   },
   "outputs": [],
   "source": [
    "#calculate the distance between two coordinates\n",
    "def haversine_np(lon1, lat1, lon2, lat2):\n",
    "    \"\"\"\n",
    "    Calculate the great circle distance between two points\n",
    "    on the earth (specified in decimal degrees)\n",
    "\n",
    "    All args must be of equal length.    \n",
    "\n",
    "    \"\"\"\n",
    "    lon1, lat1, lon2, lat2 = map(np.radians, [lon1, lat1, lon2, lat2])\n",
    "\n",
    "    dlon = lon2 - lon1\n",
    "    dlat = lat2 - lat1\n",
    "\n",
    "    a = np.sin(dlat/2.0)**2 + np.cos(lat1) * np.cos(lat2) * np.sin(dlon/2.0)**2\n",
    "\n",
    "    c = 2 * np.arcsin(np.sqrt(a))\n",
    "    km = 6367 * c\n",
    "    return km"
   ]
  },
  {
   "cell_type": "code",
   "execution_count": 25,
   "metadata": {
    "collapsed": true
   },
   "outputs": [],
   "source": [
    "df['distance'] = haversine_np(df['pickup_longitude'], df['pickup_latitude'], df['dropoff_longitude'], df['dropoff_latitude'])"
   ]
  },
  {
   "cell_type": "markdown",
   "metadata": {},
   "source": [
    "# Deal with categorical values"
   ]
  },
  {
   "cell_type": "code",
   "execution_count": 26,
   "metadata": {
    "collapsed": true
   },
   "outputs": [],
   "source": [
    "#use different dataframe to store numerical values\n",
    "pickup_month = pd.get_dummies(df['pickup_month'], prefix='pickup_month')\n",
    "pickup_hour = pd.get_dummies(df['pickup_hour'], prefix='pickup_hour')\n",
    "pickup_dayofweek = pd.get_dummies(df['pickup_day_of_week'], prefix='pickup_day_of_week')\n",
    "pickup_day = pd.get_dummies(df['pickup_day'], prefix='pickup_day')\n",
    "dropoff_month = pd.get_dummies(df['dropoff_month'], prefix='dropoff_month')\n",
    "dropoff_hour = pd.get_dummies(df['dropoff_hour'], prefix='dropoff_hour')\n",
    "dropoff_dayofweek = pd.get_dummies(df['dropoff_day_of_week'], prefix='dropoff_day_of_week')\n",
    "dropoff_day = pd.get_dummies(df['dropoff_day'], prefix='dropoff_day')"
   ]
  },
  {
   "cell_type": "code",
   "execution_count": 27,
   "metadata": {
    "collapsed": true
   },
   "outputs": [],
   "source": [
    "pickup_cluster = pd.get_dummies(df['pickup_cluster'], prefix='pickup_cluster')\n",
    "dropoff_cluster = pd.get_dummies(df['dropoff_cluster'], prefix='dropoff_cluster')"
   ]
  },
  {
   "cell_type": "code",
   "execution_count": 28,
   "metadata": {
    "collapsed": true
   },
   "outputs": [],
   "source": [
    "passenger_count = pd.get_dummies(df['passenger_count'], prefix='passenger_count')\n",
    "vendor_id = pd.get_dummies(df['vendor_id'], prefix='vendor_id')"
   ]
  },
  {
   "cell_type": "code",
   "execution_count": 29,
   "metadata": {
    "collapsed": true
   },
   "outputs": [],
   "source": [
    "#drop old categorical columns and concat new numerical columns\n",
    "df_numerical = df.drop(['pickup_cluster', 'pickup_day', 'pickup_day_of_week', 'pickup_hour', 'pickup_month', 'dropoff_cluster', 'dropoff_day', 'dropoff_day_of_week', 'dropoff_hour', 'dropoff_month', 'passenger_count', 'vendor_id'], axis = 1)\n",
    "df_numerical = pd.concat([df_numerical, pickup_month, pickup_day, pickup_dayofweek, pickup_hour, pickup_cluster, dropoff_month, dropoff_day, dropoff_dayofweek, dropoff_hour, dropoff_cluster, passenger_count, vendor_id], axis = 1)"
   ]
  },
  {
   "cell_type": "code",
   "execution_count": 30,
   "metadata": {},
   "outputs": [
    {
     "data": {
      "text/html": [
       "<div>\n",
       "<style>\n",
       "    .dataframe thead tr:only-child th {\n",
       "        text-align: right;\n",
       "    }\n",
       "\n",
       "    .dataframe thead th {\n",
       "        text-align: left;\n",
       "    }\n",
       "\n",
       "    .dataframe tbody tr th {\n",
       "        vertical-align: top;\n",
       "    }\n",
       "</style>\n",
       "<table border=\"1\" class=\"dataframe\">\n",
       "  <thead>\n",
       "    <tr style=\"text-align: right;\">\n",
       "      <th></th>\n",
       "      <th>dropoff_latitude</th>\n",
       "      <th>dropoff_longitude</th>\n",
       "      <th>id</th>\n",
       "      <th>pickup_latitude</th>\n",
       "      <th>pickup_longitude</th>\n",
       "      <th>source</th>\n",
       "      <th>trip_duration</th>\n",
       "      <th>distance</th>\n",
       "      <th>pickup_month_1</th>\n",
       "      <th>pickup_month_2</th>\n",
       "      <th>...</th>\n",
       "      <th>passenger_count_1</th>\n",
       "      <th>passenger_count_2</th>\n",
       "      <th>passenger_count_3</th>\n",
       "      <th>passenger_count_4</th>\n",
       "      <th>passenger_count_5</th>\n",
       "      <th>passenger_count_6</th>\n",
       "      <th>passenger_count_8</th>\n",
       "      <th>passenger_count_9</th>\n",
       "      <th>vendor_id_1</th>\n",
       "      <th>vendor_id_2</th>\n",
       "    </tr>\n",
       "  </thead>\n",
       "  <tbody>\n",
       "    <tr>\n",
       "      <th>0</th>\n",
       "      <td>40.765602</td>\n",
       "      <td>-73.964630</td>\n",
       "      <td>id2875421</td>\n",
       "      <td>40.767937</td>\n",
       "      <td>-73.982155</td>\n",
       "      <td>train</td>\n",
       "      <td>455.0</td>\n",
       "      <td>1.497580</td>\n",
       "      <td>0</td>\n",
       "      <td>0</td>\n",
       "      <td>...</td>\n",
       "      <td>1</td>\n",
       "      <td>0</td>\n",
       "      <td>0</td>\n",
       "      <td>0</td>\n",
       "      <td>0</td>\n",
       "      <td>0</td>\n",
       "      <td>0</td>\n",
       "      <td>0</td>\n",
       "      <td>0</td>\n",
       "      <td>1</td>\n",
       "    </tr>\n",
       "    <tr>\n",
       "      <th>1</th>\n",
       "      <td>40.731152</td>\n",
       "      <td>-73.999481</td>\n",
       "      <td>id2377394</td>\n",
       "      <td>40.738564</td>\n",
       "      <td>-73.980415</td>\n",
       "      <td>train</td>\n",
       "      <td>663.0</td>\n",
       "      <td>1.804374</td>\n",
       "      <td>0</td>\n",
       "      <td>0</td>\n",
       "      <td>...</td>\n",
       "      <td>1</td>\n",
       "      <td>0</td>\n",
       "      <td>0</td>\n",
       "      <td>0</td>\n",
       "      <td>0</td>\n",
       "      <td>0</td>\n",
       "      <td>0</td>\n",
       "      <td>0</td>\n",
       "      <td>1</td>\n",
       "      <td>0</td>\n",
       "    </tr>\n",
       "    <tr>\n",
       "      <th>2</th>\n",
       "      <td>40.710087</td>\n",
       "      <td>-74.005333</td>\n",
       "      <td>id3858529</td>\n",
       "      <td>40.763939</td>\n",
       "      <td>-73.979027</td>\n",
       "      <td>train</td>\n",
       "      <td>2124.0</td>\n",
       "      <td>6.381090</td>\n",
       "      <td>1</td>\n",
       "      <td>0</td>\n",
       "      <td>...</td>\n",
       "      <td>1</td>\n",
       "      <td>0</td>\n",
       "      <td>0</td>\n",
       "      <td>0</td>\n",
       "      <td>0</td>\n",
       "      <td>0</td>\n",
       "      <td>0</td>\n",
       "      <td>0</td>\n",
       "      <td>0</td>\n",
       "      <td>1</td>\n",
       "    </tr>\n",
       "    <tr>\n",
       "      <th>3</th>\n",
       "      <td>40.706718</td>\n",
       "      <td>-74.012268</td>\n",
       "      <td>id3504673</td>\n",
       "      <td>40.719971</td>\n",
       "      <td>-74.010040</td>\n",
       "      <td>train</td>\n",
       "      <td>429.0</td>\n",
       "      <td>1.484566</td>\n",
       "      <td>0</td>\n",
       "      <td>0</td>\n",
       "      <td>...</td>\n",
       "      <td>1</td>\n",
       "      <td>0</td>\n",
       "      <td>0</td>\n",
       "      <td>0</td>\n",
       "      <td>0</td>\n",
       "      <td>0</td>\n",
       "      <td>0</td>\n",
       "      <td>0</td>\n",
       "      <td>0</td>\n",
       "      <td>1</td>\n",
       "    </tr>\n",
       "    <tr>\n",
       "      <th>4</th>\n",
       "      <td>40.782520</td>\n",
       "      <td>-73.972923</td>\n",
       "      <td>id2181028</td>\n",
       "      <td>40.793209</td>\n",
       "      <td>-73.973053</td>\n",
       "      <td>train</td>\n",
       "      <td>435.0</td>\n",
       "      <td>1.187842</td>\n",
       "      <td>0</td>\n",
       "      <td>0</td>\n",
       "      <td>...</td>\n",
       "      <td>1</td>\n",
       "      <td>0</td>\n",
       "      <td>0</td>\n",
       "      <td>0</td>\n",
       "      <td>0</td>\n",
       "      <td>0</td>\n",
       "      <td>0</td>\n",
       "      <td>0</td>\n",
       "      <td>0</td>\n",
       "      <td>1</td>\n",
       "    </tr>\n",
       "  </tbody>\n",
       "</table>\n",
       "<p>5 rows × 356 columns</p>\n",
       "</div>"
      ],
      "text/plain": [
       "   dropoff_latitude  dropoff_longitude         id  pickup_latitude  \\\n",
       "0         40.765602         -73.964630  id2875421        40.767937   \n",
       "1         40.731152         -73.999481  id2377394        40.738564   \n",
       "2         40.710087         -74.005333  id3858529        40.763939   \n",
       "3         40.706718         -74.012268  id3504673        40.719971   \n",
       "4         40.782520         -73.972923  id2181028        40.793209   \n",
       "\n",
       "   pickup_longitude source  trip_duration  distance  pickup_month_1  \\\n",
       "0        -73.982155  train          455.0  1.497580               0   \n",
       "1        -73.980415  train          663.0  1.804374               0   \n",
       "2        -73.979027  train         2124.0  6.381090               1   \n",
       "3        -74.010040  train          429.0  1.484566               0   \n",
       "4        -73.973053  train          435.0  1.187842               0   \n",
       "\n",
       "   pickup_month_2     ...       passenger_count_1  passenger_count_2  \\\n",
       "0               0     ...                       1                  0   \n",
       "1               0     ...                       1                  0   \n",
       "2               0     ...                       1                  0   \n",
       "3               0     ...                       1                  0   \n",
       "4               0     ...                       1                  0   \n",
       "\n",
       "   passenger_count_3  passenger_count_4  passenger_count_5  passenger_count_6  \\\n",
       "0                  0                  0                  0                  0   \n",
       "1                  0                  0                  0                  0   \n",
       "2                  0                  0                  0                  0   \n",
       "3                  0                  0                  0                  0   \n",
       "4                  0                  0                  0                  0   \n",
       "\n",
       "   passenger_count_8  passenger_count_9  vendor_id_1  vendor_id_2  \n",
       "0                  0                  0            0            1  \n",
       "1                  0                  0            1            0  \n",
       "2                  0                  0            0            1  \n",
       "3                  0                  0            0            1  \n",
       "4                  0                  0            0            1  \n",
       "\n",
       "[5 rows x 356 columns]"
      ]
     },
     "execution_count": 30,
     "metadata": {},
     "output_type": "execute_result"
    }
   ],
   "source": [
    "df_numerical = df_numerical.drop(['pickup_datetime', 'dropoff_datetime'], axis = 1)\n",
    "df_numerical.head()"
   ]
  },
  {
   "cell_type": "code",
   "execution_count": 31,
   "metadata": {
    "collapsed": true
   },
   "outputs": [],
   "source": [
    "#sns.heatmap(df['pickup_cluster'])"
   ]
  },
  {
   "cell_type": "markdown",
   "metadata": {},
   "source": [
    "# Seperate the dataframe back to training set and test set"
   ]
  },
  {
   "cell_type": "code",
   "execution_count": 32,
   "metadata": {
    "collapsed": true
   },
   "outputs": [],
   "source": [
    "train_numerical = df_numerical[df_numerical['source'] == 'train']\n",
    "test_numerical = df_numerical[df_numerical['source'] == 'test']"
   ]
  },
  {
   "cell_type": "code",
   "execution_count": 33,
   "metadata": {
    "collapsed": true
   },
   "outputs": [],
   "source": [
    "# train_numerical.to_csv('train_numerical001.csv', index=False)\n",
    "# test_numerical.to_csv('test_numerical001.csv', index=False)"
   ]
  },
  {
   "cell_type": "code",
   "execution_count": 50,
   "metadata": {},
   "outputs": [
    {
     "name": "stderr",
     "output_type": "stream",
     "text": [
      "/anaconda/lib/python3.6/site-packages/ipykernel_launcher.py:1: SettingWithCopyWarning: \n",
      "A value is trying to be set on a copy of a slice from a DataFrame.\n",
      "Try using .loc[row_indexer,col_indexer] = value instead\n",
      "\n",
      "See the caveats in the documentation: http://pandas.pydata.org/pandas-docs/stable/indexing.html#indexing-view-versus-copy\n",
      "  \"\"\"Entry point for launching an IPython kernel.\n"
     ]
    }
   ],
   "source": [
    "train_numerical['trip_duration_log'] = np.log(train['trip_duration'])"
   ]
  },
  {
   "cell_type": "code",
   "execution_count": 52,
   "metadata": {},
   "outputs": [
    {
     "data": {
      "text/plain": [
       "<matplotlib.axes._subplots.AxesSubplot at 0x11acf42e8>"
      ]
     },
     "execution_count": 52,
     "metadata": {},
     "output_type": "execute_result"
    },
    {
     "data": {
      "image/png": "[encoded data removed]",
      "text/plain": [
       "<matplotlib.figure.Figure at 0x135490908>"
      ]
     },
     "metadata": {},
     "output_type": "display_data"
    }
   ],
   "source": [
    "train_numerical['trip_duration_log'].hist(bins = 100)"
   ]
  },
  {
   "cell_type": "code",
   "execution_count": 34,
   "metadata": {},
   "outputs": [
    {
     "data": {
      "text/plain": [
       "Index(['dropoff_latitude', 'dropoff_longitude', 'id', 'pickup_latitude',\n",
       "       'pickup_longitude', 'source', 'trip_duration', 'distance',\n",
       "       'pickup_month_1', 'pickup_month_2',\n",
       "       ...\n",
       "       'passenger_count_1', 'passenger_count_2', 'passenger_count_3',\n",
       "       'passenger_count_4', 'passenger_count_5', 'passenger_count_6',\n",
       "       'passenger_count_8', 'passenger_count_9', 'vendor_id_1', 'vendor_id_2'],\n",
       "      dtype='object', length=356)"
      ]
     },
     "execution_count": 34,
     "metadata": {},
     "output_type": "execute_result"
    }
   ],
   "source": [
    "test_numerical.columns"
   ]
  },
  {
   "cell_type": "code",
   "execution_count": 35,
   "metadata": {
    "collapsed": true
   },
   "outputs": [],
   "source": [
    "X_train = train_numerical.drop(['trip_duration', 'source', 'id'], axis = 1)\n",
    "y_train = train_numerical['trip_duration']"
   ]
  },
  {
   "cell_type": "code",
   "execution_count": null,
   "metadata": {
    "collapsed": true
   },
   "outputs": [],
   "source": []
  },
  {
   "cell_type": "code",
   "execution_count": 36,
   "metadata": {},
   "outputs": [
    {
     "data": {
      "text/plain": [
       "(1365423,)"
      ]
     },
     "execution_count": 36,
     "metadata": {},
     "output_type": "execute_result"
    }
   ],
   "source": [
    "#y_train.shape"
   ]
  },
  {
   "cell_type": "code",
   "execution_count": 68,
   "metadata": {
    "collapsed": true
   },
   "outputs": [],
   "source": [
    "\n",
    "#model.fit(X_train, y_train)"
   ]
  },
  {
   "cell_type": "code",
   "execution_count": null,
   "metadata": {
    "collapsed": true
   },
   "outputs": [],
   "source": [
    "#Plot features importance\n",
    "# ax = plot_importance(model)\n",
    "# fig = ax.figure\n",
    "# fig.set_size_inches(14, 16)"
   ]
  },
  {
   "cell_type": "markdown",
   "metadata": {},
   "source": [
    "# Choose features according to feature importance, then fit and predict"
   ]
  },
  {
   "cell_type": "code",
   "execution_count": 42,
   "metadata": {
    "collapsed": true
   },
   "outputs": [],
   "source": [
    "#defin error metrics\n",
    "def rmsle(predicted,real):\n",
    "    sum=0.0\n",
    "    for x in range(len(predicted)):\n",
    "        p = np.log(predicted[x]+1)\n",
    "        r = np.log(real[x]+1)\n",
    "        sum = sum + (p - r)**2\n",
    "    return (sum/len(predicted))**0.5"
   ]
  },
  {
   "cell_type": "code",
   "execution_count": 43,
   "metadata": {
    "collapsed": true
   },
   "outputs": [],
   "source": [
    "features = ['distance', 'dropoff_latitude', 'pickup_day_of_week_6', 'dropoff_longitude']\n",
    "target = ['trip_duration']"
   ]
  },
  {
   "cell_type": "code",
   "execution_count": 44,
   "metadata": {},
   "outputs": [],
   "source": [
    "kf = KFold(n_splits = 10)"
   ]
  },
  {
   "cell_type": "code",
   "execution_count": null,
   "metadata": {
    "collapsed": true
   },
   "outputs": [],
   "source": [
    "#model = XGBRegressor(n_estimators = 220, max_depth = 8, learning_rate = 0.2)"
   ]
  },
  {
   "cell_type": "code",
   "execution_count": 49,
   "metadata": {},
   "outputs": [
    {
     "name": "stdout",
     "output_type": "stream",
     "text": [
      "(136543, 4) (136543,)\n",
      "(136543, 4) (136543,)\n",
      "(136543, 4) (136543,)\n",
      "(136542, 4) (136542,)\n",
      "(136542, 4) (136542,)\n",
      "(136542, 4) (136542,)\n",
      "(136542, 4) (136542,)\n",
      "(136542, 4) (136542,)\n",
      "(136542, 4) (136542,)\n",
      "(136542, 4) (136542,)\n"
     ]
    }
   ],
   "source": [
    "for train_index, test_index in kf.split(train_numerical):\n",
    "    features = ['distance', 'dropoff_latitude', 'pickup_day_of_week_6', 'dropoff_longitude']\n",
    "    #split train set and test set\n",
    "    train_X = train_numerical.loc[train_index][features]\n",
    "    train_y = train_numerical.loc[train_index]['trip_duration']\n",
    "    test_X = train_numerical.loc[test_index][features]\n",
    "    test_y = train_numerical.loc[test_index]['trip_duration']\n",
    "    \n",
    "    #fit and predict\n",
    "    model = XGBRegressor(n_estimators = 220, max_depth = 8, learning_rate = 0.2)\n",
    "    model.fit(train_X, train_y)\n",
    "    prediction = model.predict(test_X)\n",
    "    prediction = np.absolute(prediction)\n",
    "    \n",
    "    #print out score\n",
    "    score = rmsle(prediction, test_y)\n",
    "    print(score)"
   ]
  },
  {
   "cell_type": "code",
   "execution_count": 40,
   "metadata": {
    "collapsed": true
   },
   "outputs": [],
   "source": [
    "#df_numerical['source'].value_counts()"
   ]
  },
  {
   "cell_type": "code",
   "execution_count": null,
   "metadata": {
    "collapsed": true
   },
   "outputs": [],
   "source": [
    "predictions = model.predict(test_numerical[features])"
   ]
  },
  {
   "cell_type": "code",
   "execution_count": null,
   "metadata": {
    "collapsed": true
   },
   "outputs": [],
   "source": [
    "predictions = np.absolute(predictions)"
   ]
  },
  {
   "cell_type": "code",
   "execution_count": null,
   "metadata": {
    "collapsed": true
   },
   "outputs": [],
   "source": [
    "d = {'id': test_id, 'trip_duration': predictions}"
   ]
  },
  {
   "cell_type": "code",
   "execution_count": null,
   "metadata": {
    "collapsed": true
   },
   "outputs": [],
   "source": [
    "submit = pd.DataFrame(data = d)"
   ]
  },
  {
   "cell_type": "code",
   "execution_count": null,
   "metadata": {
    "collapsed": true
   },
   "outputs": [],
   "source": [
    "submit.to_csv(\"submit0824_240_depth10.csv\", index=False)"
   ]
  },
  {
   "cell_type": "code",
   "execution_count": 180,
   "metadata": {
    "collapsed": true
   },
   "outputs": [],
   "source": [
    "#submit[submit['trip_duration'] < 0]"
   ]
  },
  {
   "cell_type": "code",
   "execution_count": 181,
   "metadata": {
    "collapsed": true
   },
   "outputs": [],
   "source": [
    "#test[test['id'] == 'id0466318']"
   ]
  },
  {
   "cell_type": "code",
   "execution_count": null,
   "metadata": {
    "collapsed": true
   },
   "outputs": [],
   "source": []
  }
 ],
 "metadata": {
  "kernelspec": {
   "display_name": "Python 3",
   "language": "python",
   "name": "python3"
  },
  "language_info": {
   "codemirror_mode": {
    "name": "ipython",
    "version": 3
   },
   "file_extension": ".py",
   "mimetype": "text/x-python",
   "name": "python",
   "nbconvert_exporter": "python",
   "pygments_lexer": "ipython3",
   "version": "3.6.1"
  }
 },
 "nbformat": 4,
 "nbformat_minor": 2
}
