{
 "cells": [
  {
   "cell_type": "code",
   "execution_count": 1,
   "metadata": {},
   "outputs": [
    {
     "name": "stderr",
     "output_type": "stream",
     "text": [
      "/anaconda/lib/python3.6/site-packages/sklearn/cross_validation.py:44: DeprecationWarning: This module was deprecated in version 0.18 in favor of the model_selection module into which all the refactored classes and functions are moved. Also note that the interface of the new CV iterators are different from that of this module. This module will be removed in 0.20.\n",
      "  \"This module will be removed in 0.20.\", DeprecationWarning)\n",
      "/anaconda/lib/python3.6/site-packages/sklearn/grid_search.py:43: DeprecationWarning: This module was deprecated in version 0.18 in favor of the model_selection module into which all the refactored classes and functions are moved. This module will be removed in 0.20.\n",
      "  DeprecationWarning)\n"
     ]
    }
   ],
   "source": [
    "import pandas as pd\n",
    "import numpy as np\n",
    "import seaborn as sns\n",
    "import matplotlib.pyplot as plt\n",
    "from sklearn.cluster import MiniBatchKMeans\n",
    "from sklearn.model_selection import KFold\n",
    "from sklearn.grid_search import GridSearchCV\n",
    "from xgboost import XGBRegressor\n",
    "from xgboost import plot_importance\n",
    "import xgboost as xgb\n",
    "from sklearn.cross_validation import train_test_split\n",
    "import datetime as dt\n",
    "from sklearn.preprocessing import StandardScaler\n",
    "%matplotlib inline"
   ]
  },
  {
   "cell_type": "code",
   "execution_count": null,
   "metadata": {
    "collapsed": true
   },
   "outputs": [],
   "source": []
  },
  {
   "cell_type": "code",
   "execution_count": 2,
   "metadata": {
    "collapsed": true
   },
   "outputs": [],
   "source": [
    "train = pd.read_csv(\"train.csv\")\n",
    "test = pd.read_csv(\"test.csv\")"
   ]
  },
  {
   "cell_type": "code",
   "execution_count": 3,
   "metadata": {},
   "outputs": [
    {
     "data": {
      "text/html": [
       "<div>\n",
       "<style>\n",
       "    .dataframe thead tr:only-child th {\n",
       "        text-align: right;\n",
       "    }\n",
       "\n",
       "    .dataframe thead th {\n",
       "        text-align: left;\n",
       "    }\n",
       "\n",
       "    .dataframe tbody tr th {\n",
       "        vertical-align: top;\n",
       "    }\n",
       "</style>\n",
       "<table border=\"1\" class=\"dataframe\">\n",
       "  <thead>\n",
       "    <tr style=\"text-align: right;\">\n",
       "      <th></th>\n",
       "      <th>id</th>\n",
       "      <th>vendor_id</th>\n",
       "      <th>pickup_datetime</th>\n",
       "      <th>dropoff_datetime</th>\n",
       "      <th>passenger_count</th>\n",
       "      <th>pickup_longitude</th>\n",
       "      <th>pickup_latitude</th>\n",
       "      <th>dropoff_longitude</th>\n",
       "      <th>dropoff_latitude</th>\n",
       "      <th>store_and_fwd_flag</th>\n",
       "      <th>trip_duration</th>\n",
       "    </tr>\n",
       "  </thead>\n",
       "  <tbody>\n",
       "    <tr>\n",
       "      <th>0</th>\n",
       "      <td>id2875421</td>\n",
       "      <td>2</td>\n",
       "      <td>2016-03-14 17:24:55</td>\n",
       "      <td>2016-03-14 17:32:30</td>\n",
       "      <td>1</td>\n",
       "      <td>-73.982155</td>\n",
       "      <td>40.767937</td>\n",
       "      <td>-73.964630</td>\n",
       "      <td>40.765602</td>\n",
       "      <td>N</td>\n",
       "      <td>455</td>\n",
       "    </tr>\n",
       "    <tr>\n",
       "      <th>1</th>\n",
       "      <td>id2377394</td>\n",
       "      <td>1</td>\n",
       "      <td>2016-06-12 00:43:35</td>\n",
       "      <td>2016-06-12 00:54:38</td>\n",
       "      <td>1</td>\n",
       "      <td>-73.980415</td>\n",
       "      <td>40.738564</td>\n",
       "      <td>-73.999481</td>\n",
       "      <td>40.731152</td>\n",
       "      <td>N</td>\n",
       "      <td>663</td>\n",
       "    </tr>\n",
       "    <tr>\n",
       "      <th>2</th>\n",
       "      <td>id3858529</td>\n",
       "      <td>2</td>\n",
       "      <td>2016-01-19 11:35:24</td>\n",
       "      <td>2016-01-19 12:10:48</td>\n",
       "      <td>1</td>\n",
       "      <td>-73.979027</td>\n",
       "      <td>40.763939</td>\n",
       "      <td>-74.005333</td>\n",
       "      <td>40.710087</td>\n",
       "      <td>N</td>\n",
       "      <td>2124</td>\n",
       "    </tr>\n",
       "    <tr>\n",
       "      <th>3</th>\n",
       "      <td>id3504673</td>\n",
       "      <td>2</td>\n",
       "      <td>2016-04-06 19:32:31</td>\n",
       "      <td>2016-04-06 19:39:40</td>\n",
       "      <td>1</td>\n",
       "      <td>-74.010040</td>\n",
       "      <td>40.719971</td>\n",
       "      <td>-74.012268</td>\n",
       "      <td>40.706718</td>\n",
       "      <td>N</td>\n",
       "      <td>429</td>\n",
       "    </tr>\n",
       "    <tr>\n",
       "      <th>4</th>\n",
       "      <td>id2181028</td>\n",
       "      <td>2</td>\n",
       "      <td>2016-03-26 13:30:55</td>\n",
       "      <td>2016-03-26 13:38:10</td>\n",
       "      <td>1</td>\n",
       "      <td>-73.973053</td>\n",
       "      <td>40.793209</td>\n",
       "      <td>-73.972923</td>\n",
       "      <td>40.782520</td>\n",
       "      <td>N</td>\n",
       "      <td>435</td>\n",
       "    </tr>\n",
       "  </tbody>\n",
       "</table>\n",
       "</div>"
      ],
      "text/plain": [
       "          id  vendor_id      pickup_datetime     dropoff_datetime  \\\n",
       "0  id2875421          2  2016-03-14 17:24:55  2016-03-14 17:32:30   \n",
       "1  id2377394          1  2016-06-12 00:43:35  2016-06-12 00:54:38   \n",
       "2  id3858529          2  2016-01-19 11:35:24  2016-01-19 12:10:48   \n",
       "3  id3504673          2  2016-04-06 19:32:31  2016-04-06 19:39:40   \n",
       "4  id2181028          2  2016-03-26 13:30:55  2016-03-26 13:38:10   \n",
       "\n",
       "   passenger_count  pickup_longitude  pickup_latitude  dropoff_longitude  \\\n",
       "0                1        -73.982155        40.767937         -73.964630   \n",
       "1                1        -73.980415        40.738564         -73.999481   \n",
       "2                1        -73.979027        40.763939         -74.005333   \n",
       "3                1        -74.010040        40.719971         -74.012268   \n",
       "4                1        -73.973053        40.793209         -73.972923   \n",
       "\n",
       "   dropoff_latitude store_and_fwd_flag  trip_duration  \n",
       "0         40.765602                  N            455  \n",
       "1         40.731152                  N            663  \n",
       "2         40.710087                  N           2124  \n",
       "3         40.706718                  N            429  \n",
       "4         40.782520                  N            435  "
      ]
     },
     "execution_count": 3,
     "metadata": {},
     "output_type": "execute_result"
    }
   ],
   "source": [
    "train.head()"
   ]
  },
  {
   "cell_type": "code",
   "execution_count": 4,
   "metadata": {},
   "outputs": [
    {
     "data": {
      "image/png": "[encoded data removed]",
      "text/plain": [
       "<matplotlib.figure.Figure at 0x108250d68>"
      ]
     },
     "metadata": {},
     "output_type": "display_data"
    }
   ],
   "source": [
    "sns.jointplot(x=\"pickup_longitude\", y=\"pickup_latitude\", data=train);"
   ]
  },
  {
   "cell_type": "code",
   "execution_count": 5,
   "metadata": {},
   "outputs": [
    {
     "data": {
      "text/html": [
       "<div>\n",
       "<style>\n",
       "    .dataframe thead tr:only-child th {\n",
       "        text-align: right;\n",
       "    }\n",
       "\n",
       "    .dataframe thead th {\n",
       "        text-align: left;\n",
       "    }\n",
       "\n",
       "    .dataframe tbody tr th {\n",
       "        vertical-align: top;\n",
       "    }\n",
       "</style>\n",
       "<table border=\"1\" class=\"dataframe\">\n",
       "  <thead>\n",
       "    <tr style=\"text-align: right;\">\n",
       "      <th></th>\n",
       "      <th>id</th>\n",
       "      <th>vendor_id</th>\n",
       "      <th>pickup_datetime</th>\n",
       "      <th>passenger_count</th>\n",
       "      <th>pickup_longitude</th>\n",
       "      <th>pickup_latitude</th>\n",
       "      <th>dropoff_longitude</th>\n",
       "      <th>dropoff_latitude</th>\n",
       "      <th>store_and_fwd_flag</th>\n",
       "    </tr>\n",
       "  </thead>\n",
       "  <tbody>\n",
       "    <tr>\n",
       "      <th>0</th>\n",
       "      <td>id3004672</td>\n",
       "      <td>1</td>\n",
       "      <td>2016-06-30 23:59:58</td>\n",
       "      <td>1</td>\n",
       "      <td>-73.988129</td>\n",
       "      <td>40.732029</td>\n",
       "      <td>-73.990173</td>\n",
       "      <td>40.756680</td>\n",
       "      <td>N</td>\n",
       "    </tr>\n",
       "    <tr>\n",
       "      <th>1</th>\n",
       "      <td>id3505355</td>\n",
       "      <td>1</td>\n",
       "      <td>2016-06-30 23:59:53</td>\n",
       "      <td>1</td>\n",
       "      <td>-73.964203</td>\n",
       "      <td>40.679993</td>\n",
       "      <td>-73.959808</td>\n",
       "      <td>40.655403</td>\n",
       "      <td>N</td>\n",
       "    </tr>\n",
       "    <tr>\n",
       "      <th>2</th>\n",
       "      <td>id1217141</td>\n",
       "      <td>1</td>\n",
       "      <td>2016-06-30 23:59:47</td>\n",
       "      <td>1</td>\n",
       "      <td>-73.997437</td>\n",
       "      <td>40.737583</td>\n",
       "      <td>-73.986160</td>\n",
       "      <td>40.729523</td>\n",
       "      <td>N</td>\n",
       "    </tr>\n",
       "    <tr>\n",
       "      <th>3</th>\n",
       "      <td>id2150126</td>\n",
       "      <td>2</td>\n",
       "      <td>2016-06-30 23:59:41</td>\n",
       "      <td>1</td>\n",
       "      <td>-73.956070</td>\n",
       "      <td>40.771900</td>\n",
       "      <td>-73.986427</td>\n",
       "      <td>40.730469</td>\n",
       "      <td>N</td>\n",
       "    </tr>\n",
       "    <tr>\n",
       "      <th>4</th>\n",
       "      <td>id1598245</td>\n",
       "      <td>1</td>\n",
       "      <td>2016-06-30 23:59:33</td>\n",
       "      <td>1</td>\n",
       "      <td>-73.970215</td>\n",
       "      <td>40.761475</td>\n",
       "      <td>-73.961510</td>\n",
       "      <td>40.755890</td>\n",
       "      <td>N</td>\n",
       "    </tr>\n",
       "  </tbody>\n",
       "</table>\n",
       "</div>"
      ],
      "text/plain": [
       "          id  vendor_id      pickup_datetime  passenger_count  \\\n",
       "0  id3004672          1  2016-06-30 23:59:58                1   \n",
       "1  id3505355          1  2016-06-30 23:59:53                1   \n",
       "2  id1217141          1  2016-06-30 23:59:47                1   \n",
       "3  id2150126          2  2016-06-30 23:59:41                1   \n",
       "4  id1598245          1  2016-06-30 23:59:33                1   \n",
       "\n",
       "   pickup_longitude  pickup_latitude  dropoff_longitude  dropoff_latitude  \\\n",
       "0        -73.988129        40.732029         -73.990173         40.756680   \n",
       "1        -73.964203        40.679993         -73.959808         40.655403   \n",
       "2        -73.997437        40.737583         -73.986160         40.729523   \n",
       "3        -73.956070        40.771900         -73.986427         40.730469   \n",
       "4        -73.970215        40.761475         -73.961510         40.755890   \n",
       "\n",
       "  store_and_fwd_flag  \n",
       "0                  N  \n",
       "1                  N  \n",
       "2                  N  \n",
       "3                  N  \n",
       "4                  N  "
      ]
     },
     "execution_count": 5,
     "metadata": {},
     "output_type": "execute_result"
    }
   ],
   "source": [
    "test.head()"
   ]
  },
  {
   "cell_type": "code",
   "execution_count": 6,
   "metadata": {},
   "outputs": [
    {
     "data": {
      "text/plain": [
       "(625134, 9)"
      ]
     },
     "execution_count": 6,
     "metadata": {},
     "output_type": "execute_result"
    }
   ],
   "source": [
    "test.shape"
   ]
  },
  {
   "cell_type": "code",
   "execution_count": 7,
   "metadata": {
    "collapsed": true
   },
   "outputs": [],
   "source": [
    "m = np.mean(train['trip_duration'])\n",
    "s = np.std(train['trip_duration'])\n",
    "train = train[(train['trip_duration'] <= m + 2*s) & (train['trip_duration'] >= m -2*s)]\n",
    "train = train[(train['pickup_longitude'] > -74.023822) & (train['pickup_latitude'] < 40.886345) & (train['pickup_longitude'] < -73.901599) & (train['pickup_latitude'] > 40.698160)]"
   ]
  },
  {
   "cell_type": "code",
   "execution_count": 8,
   "metadata": {
    "collapsed": true
   },
   "outputs": [],
   "source": [
    "test_id = test['id']"
   ]
  },
  {
   "cell_type": "code",
   "execution_count": 9,
   "metadata": {
    "collapsed": true
   },
   "outputs": [],
   "source": [
    "train['source'] = 'train'\n",
    "test['source'] = 'test'\n",
    "df = pd.concat([train, test], ignore_index=True)"
   ]
  },
  {
   "cell_type": "code",
   "execution_count": 10,
   "metadata": {
    "collapsed": true
   },
   "outputs": [],
   "source": [
    "#sns.jointplot(x = 'pickup_longitude', y = 'pickup_latitude', data = df, s = 4)"
   ]
  },
  {
   "cell_type": "code",
   "execution_count": 11,
   "metadata": {},
   "outputs": [
    {
     "name": "stdout",
     "output_type": "stream",
     "text": [
      "<class 'pandas.core.frame.DataFrame'>\n",
      "RangeIndex: 1990557 entries, 0 to 1990556\n",
      "Data columns (total 12 columns):\n",
      "dropoff_datetime      object\n",
      "dropoff_latitude      float64\n",
      "dropoff_longitude     float64\n",
      "id                    object\n",
      "passenger_count       int64\n",
      "pickup_datetime       object\n",
      "pickup_latitude       float64\n",
      "pickup_longitude      float64\n",
      "source                object\n",
      "store_and_fwd_flag    object\n",
      "trip_duration         float64\n",
      "vendor_id             int64\n",
      "dtypes: float64(5), int64(2), object(5)\n",
      "memory usage: 182.2+ MB\n"
     ]
    }
   ],
   "source": [
    "df.info()"
   ]
  },
  {
   "cell_type": "code",
   "execution_count": 12,
   "metadata": {},
   "outputs": [
    {
     "data": {
      "text/html": [
       "<div>\n",
       "<style>\n",
       "    .dataframe thead tr:only-child th {\n",
       "        text-align: right;\n",
       "    }\n",
       "\n",
       "    .dataframe thead th {\n",
       "        text-align: left;\n",
       "    }\n",
       "\n",
       "    .dataframe tbody tr th {\n",
       "        vertical-align: top;\n",
       "    }\n",
       "</style>\n",
       "<table border=\"1\" class=\"dataframe\">\n",
       "  <thead>\n",
       "    <tr style=\"text-align: right;\">\n",
       "      <th></th>\n",
       "      <th>dropoff_latitude</th>\n",
       "      <th>dropoff_longitude</th>\n",
       "      <th>passenger_count</th>\n",
       "      <th>pickup_latitude</th>\n",
       "      <th>pickup_longitude</th>\n",
       "      <th>trip_duration</th>\n",
       "      <th>vendor_id</th>\n",
       "    </tr>\n",
       "  </thead>\n",
       "  <tbody>\n",
       "    <tr>\n",
       "      <th>count</th>\n",
       "      <td>1.990557e+06</td>\n",
       "      <td>1.990557e+06</td>\n",
       "      <td>1.990557e+06</td>\n",
       "      <td>1.990557e+06</td>\n",
       "      <td>1.990557e+06</td>\n",
       "      <td>1.365423e+06</td>\n",
       "      <td>1.990557e+06</td>\n",
       "    </tr>\n",
       "    <tr>\n",
       "      <th>mean</th>\n",
       "      <td>4.075267e+01</td>\n",
       "      <td>-7.397441e+01</td>\n",
       "      <td>1.661832e+00</td>\n",
       "      <td>4.075285e+01</td>\n",
       "      <td>-7.397868e+01</td>\n",
       "      <td>7.723499e+02</td>\n",
       "      <td>1.533578e+00</td>\n",
       "    </tr>\n",
       "    <tr>\n",
       "      <th>std</th>\n",
       "      <td>3.258285e-02</td>\n",
       "      <td>4.933976e-02</td>\n",
       "      <td>1.312092e+00</td>\n",
       "      <td>2.481170e-02</td>\n",
       "      <td>4.366096e-02</td>\n",
       "      <td>5.596175e+02</td>\n",
       "      <td>4.988713e-01</td>\n",
       "    </tr>\n",
       "    <tr>\n",
       "      <th>min</th>\n",
       "      <td>3.639812e+01</td>\n",
       "      <td>-1.219333e+02</td>\n",
       "      <td>0.000000e+00</td>\n",
       "      <td>3.738959e+01</td>\n",
       "      <td>-1.219331e+02</td>\n",
       "      <td>1.000000e+00</td>\n",
       "      <td>1.000000e+00</td>\n",
       "    </tr>\n",
       "    <tr>\n",
       "      <th>25%</th>\n",
       "      <td>4.073701e+01</td>\n",
       "      <td>-7.399142e+01</td>\n",
       "      <td>1.000000e+00</td>\n",
       "      <td>4.073860e+01</td>\n",
       "      <td>-7.399226e+01</td>\n",
       "      <td>3.860000e+02</td>\n",
       "      <td>1.000000e+00</td>\n",
       "    </tr>\n",
       "    <tr>\n",
       "      <th>50%</th>\n",
       "      <td>4.075495e+01</td>\n",
       "      <td>-7.397997e+01</td>\n",
       "      <td>1.000000e+00</td>\n",
       "      <td>4.075438e+01</td>\n",
       "      <td>-7.398222e+01</td>\n",
       "      <td>6.350000e+02</td>\n",
       "      <td>2.000000e+00</td>\n",
       "    </tr>\n",
       "    <tr>\n",
       "      <th>75%</th>\n",
       "      <td>4.077022e+01</td>\n",
       "      <td>-7.396364e+01</td>\n",
       "      <td>2.000000e+00</td>\n",
       "      <td>4.076783e+01</td>\n",
       "      <td>-7.396950e+01</td>\n",
       "      <td>1.004000e+03</td>\n",
       "      <td>2.000000e+00</td>\n",
       "    </tr>\n",
       "    <tr>\n",
       "      <th>max</th>\n",
       "      <td>4.885760e+01</td>\n",
       "      <td>-6.749680e+01</td>\n",
       "      <td>9.000000e+00</td>\n",
       "      <td>4.281494e+01</td>\n",
       "      <td>-6.924892e+01</td>\n",
       "      <td>1.141100e+04</td>\n",
       "      <td>2.000000e+00</td>\n",
       "    </tr>\n",
       "  </tbody>\n",
       "</table>\n",
       "</div>"
      ],
      "text/plain": [
       "       dropoff_latitude  dropoff_longitude  passenger_count  pickup_latitude  \\\n",
       "count      1.990557e+06       1.990557e+06     1.990557e+06     1.990557e+06   \n",
       "mean       4.075267e+01      -7.397441e+01     1.661832e+00     4.075285e+01   \n",
       "std        3.258285e-02       4.933976e-02     1.312092e+00     2.481170e-02   \n",
       "min        3.639812e+01      -1.219333e+02     0.000000e+00     3.738959e+01   \n",
       "25%        4.073701e+01      -7.399142e+01     1.000000e+00     4.073860e+01   \n",
       "50%        4.075495e+01      -7.397997e+01     1.000000e+00     4.075438e+01   \n",
       "75%        4.077022e+01      -7.396364e+01     2.000000e+00     4.076783e+01   \n",
       "max        4.885760e+01      -6.749680e+01     9.000000e+00     4.281494e+01   \n",
       "\n",
       "       pickup_longitude  trip_duration     vendor_id  \n",
       "count      1.990557e+06   1.365423e+06  1.990557e+06  \n",
       "mean      -7.397868e+01   7.723499e+02  1.533578e+00  \n",
       "std        4.366096e-02   5.596175e+02  4.988713e-01  \n",
       "min       -1.219331e+02   1.000000e+00  1.000000e+00  \n",
       "25%       -7.399226e+01   3.860000e+02  1.000000e+00  \n",
       "50%       -7.398222e+01   6.350000e+02  2.000000e+00  \n",
       "75%       -7.396950e+01   1.004000e+03  2.000000e+00  \n",
       "max       -6.924892e+01   1.141100e+04  2.000000e+00  "
      ]
     },
     "execution_count": 12,
     "metadata": {},
     "output_type": "execute_result"
    }
   ],
   "source": [
    "df.describe()"
   ]
  },
  {
   "cell_type": "code",
   "execution_count": 13,
   "metadata": {},
   "outputs": [
    {
     "data": {
      "text/html": [
       "<div>\n",
       "<style>\n",
       "    .dataframe thead tr:only-child th {\n",
       "        text-align: right;\n",
       "    }\n",
       "\n",
       "    .dataframe thead th {\n",
       "        text-align: left;\n",
       "    }\n",
       "\n",
       "    .dataframe tbody tr th {\n",
       "        vertical-align: top;\n",
       "    }\n",
       "</style>\n",
       "<table border=\"1\" class=\"dataframe\">\n",
       "  <thead>\n",
       "    <tr style=\"text-align: right;\">\n",
       "      <th></th>\n",
       "      <th>dropoff_datetime</th>\n",
       "      <th>dropoff_latitude</th>\n",
       "      <th>dropoff_longitude</th>\n",
       "      <th>id</th>\n",
       "      <th>passenger_count</th>\n",
       "      <th>pickup_datetime</th>\n",
       "      <th>pickup_latitude</th>\n",
       "      <th>pickup_longitude</th>\n",
       "      <th>source</th>\n",
       "      <th>store_and_fwd_flag</th>\n",
       "      <th>trip_duration</th>\n",
       "      <th>vendor_id</th>\n",
       "    </tr>\n",
       "  </thead>\n",
       "  <tbody>\n",
       "    <tr>\n",
       "      <th>0</th>\n",
       "      <td>2016-03-14 17:32:30</td>\n",
       "      <td>40.765602</td>\n",
       "      <td>-73.964630</td>\n",
       "      <td>id2875421</td>\n",
       "      <td>1</td>\n",
       "      <td>2016-03-14 17:24:55</td>\n",
       "      <td>40.767937</td>\n",
       "      <td>-73.982155</td>\n",
       "      <td>train</td>\n",
       "      <td>N</td>\n",
       "      <td>455.0</td>\n",
       "      <td>2</td>\n",
       "    </tr>\n",
       "    <tr>\n",
       "      <th>1</th>\n",
       "      <td>2016-06-12 00:54:38</td>\n",
       "      <td>40.731152</td>\n",
       "      <td>-73.999481</td>\n",
       "      <td>id2377394</td>\n",
       "      <td>1</td>\n",
       "      <td>2016-06-12 00:43:35</td>\n",
       "      <td>40.738564</td>\n",
       "      <td>-73.980415</td>\n",
       "      <td>train</td>\n",
       "      <td>N</td>\n",
       "      <td>663.0</td>\n",
       "      <td>1</td>\n",
       "    </tr>\n",
       "    <tr>\n",
       "      <th>2</th>\n",
       "      <td>2016-01-19 12:10:48</td>\n",
       "      <td>40.710087</td>\n",
       "      <td>-74.005333</td>\n",
       "      <td>id3858529</td>\n",
       "      <td>1</td>\n",
       "      <td>2016-01-19 11:35:24</td>\n",
       "      <td>40.763939</td>\n",
       "      <td>-73.979027</td>\n",
       "      <td>train</td>\n",
       "      <td>N</td>\n",
       "      <td>2124.0</td>\n",
       "      <td>2</td>\n",
       "    </tr>\n",
       "    <tr>\n",
       "      <th>3</th>\n",
       "      <td>2016-04-06 19:39:40</td>\n",
       "      <td>40.706718</td>\n",
       "      <td>-74.012268</td>\n",
       "      <td>id3504673</td>\n",
       "      <td>1</td>\n",
       "      <td>2016-04-06 19:32:31</td>\n",
       "      <td>40.719971</td>\n",
       "      <td>-74.010040</td>\n",
       "      <td>train</td>\n",
       "      <td>N</td>\n",
       "      <td>429.0</td>\n",
       "      <td>2</td>\n",
       "    </tr>\n",
       "    <tr>\n",
       "      <th>4</th>\n",
       "      <td>2016-03-26 13:38:10</td>\n",
       "      <td>40.782520</td>\n",
       "      <td>-73.972923</td>\n",
       "      <td>id2181028</td>\n",
       "      <td>1</td>\n",
       "      <td>2016-03-26 13:30:55</td>\n",
       "      <td>40.793209</td>\n",
       "      <td>-73.973053</td>\n",
       "      <td>train</td>\n",
       "      <td>N</td>\n",
       "      <td>435.0</td>\n",
       "      <td>2</td>\n",
       "    </tr>\n",
       "  </tbody>\n",
       "</table>\n",
       "</div>"
      ],
      "text/plain": [
       "      dropoff_datetime  dropoff_latitude  dropoff_longitude         id  \\\n",
       "0  2016-03-14 17:32:30         40.765602         -73.964630  id2875421   \n",
       "1  2016-06-12 00:54:38         40.731152         -73.999481  id2377394   \n",
       "2  2016-01-19 12:10:48         40.710087         -74.005333  id3858529   \n",
       "3  2016-04-06 19:39:40         40.706718         -74.012268  id3504673   \n",
       "4  2016-03-26 13:38:10         40.782520         -73.972923  id2181028   \n",
       "\n",
       "   passenger_count      pickup_datetime  pickup_latitude  pickup_longitude  \\\n",
       "0                1  2016-03-14 17:24:55        40.767937        -73.982155   \n",
       "1                1  2016-06-12 00:43:35        40.738564        -73.980415   \n",
       "2                1  2016-01-19 11:35:24        40.763939        -73.979027   \n",
       "3                1  2016-04-06 19:32:31        40.719971        -74.010040   \n",
       "4                1  2016-03-26 13:30:55        40.793209        -73.973053   \n",
       "\n",
       "  source store_and_fwd_flag  trip_duration  vendor_id  \n",
       "0  train                  N          455.0          2  \n",
       "1  train                  N          663.0          1  \n",
       "2  train                  N         2124.0          2  \n",
       "3  train                  N          429.0          2  \n",
       "4  train                  N          435.0          2  "
      ]
     },
     "execution_count": 13,
     "metadata": {},
     "output_type": "execute_result"
    }
   ],
   "source": [
    "df.head()"
   ]
  },
  {
   "cell_type": "code",
   "execution_count": 14,
   "metadata": {
    "collapsed": true
   },
   "outputs": [],
   "source": [
    "df['pickup_datetime'] = pd.to_datetime(df['pickup_datetime'])\n",
    "df['pickup_month'] = df['pickup_datetime'].dt.month\n",
    "df['pickup_day_of_week'] = df['pickup_datetime'].dt.dayofweek\n",
    "df['pickup_day'] = df['pickup_datetime'].dt.day\n",
    "df['pickup_hour'] = df['pickup_datetime'].dt.hour"
   ]
  },
  {
   "cell_type": "code",
   "execution_count": 15,
   "metadata": {
    "collapsed": true
   },
   "outputs": [],
   "source": [
    "df['dropoff_datetime'] = pd.to_datetime(df['dropoff_datetime'])"
   ]
  },
  {
   "cell_type": "code",
   "execution_count": 16,
   "metadata": {
    "collapsed": true
   },
   "outputs": [],
   "source": [
    "df['dropoff_month'] = df['dropoff_datetime'].dt.month\n",
    "df['dropoff_day_of_week'] = df['dropoff_datetime'].dt.dayofweek\n",
    "df['dropoff_day'] = df['dropoff_datetime'].dt.day\n",
    "df['dropoff_hour'] = df['dropoff_datetime'].dt.hour"
   ]
  },
  {
   "cell_type": "code",
   "execution_count": 17,
   "metadata": {},
   "outputs": [
    {
     "data": {
      "text/html": [
       "<div>\n",
       "<style>\n",
       "    .dataframe thead tr:only-child th {\n",
       "        text-align: right;\n",
       "    }\n",
       "\n",
       "    .dataframe thead th {\n",
       "        text-align: left;\n",
       "    }\n",
       "\n",
       "    .dataframe tbody tr th {\n",
       "        vertical-align: top;\n",
       "    }\n",
       "</style>\n",
       "<table border=\"1\" class=\"dataframe\">\n",
       "  <thead>\n",
       "    <tr style=\"text-align: right;\">\n",
       "      <th></th>\n",
       "      <th>dropoff_datetime</th>\n",
       "      <th>dropoff_latitude</th>\n",
       "      <th>dropoff_longitude</th>\n",
       "      <th>id</th>\n",
       "      <th>passenger_count</th>\n",
       "      <th>pickup_datetime</th>\n",
       "      <th>pickup_latitude</th>\n",
       "      <th>pickup_longitude</th>\n",
       "      <th>source</th>\n",
       "      <th>store_and_fwd_flag</th>\n",
       "      <th>trip_duration</th>\n",
       "      <th>vendor_id</th>\n",
       "      <th>pickup_month</th>\n",
       "      <th>pickup_day_of_week</th>\n",
       "      <th>pickup_day</th>\n",
       "      <th>pickup_hour</th>\n",
       "      <th>dropoff_month</th>\n",
       "      <th>dropoff_day_of_week</th>\n",
       "      <th>dropoff_day</th>\n",
       "      <th>dropoff_hour</th>\n",
       "    </tr>\n",
       "  </thead>\n",
       "  <tbody>\n",
       "    <tr>\n",
       "      <th>0</th>\n",
       "      <td>2016-03-14 17:32:30</td>\n",
       "      <td>40.765602</td>\n",
       "      <td>-73.964630</td>\n",
       "      <td>id2875421</td>\n",
       "      <td>1</td>\n",
       "      <td>2016-03-14 17:24:55</td>\n",
       "      <td>40.767937</td>\n",
       "      <td>-73.982155</td>\n",
       "      <td>train</td>\n",
       "      <td>N</td>\n",
       "      <td>455.0</td>\n",
       "      <td>2</td>\n",
       "      <td>3</td>\n",
       "      <td>0</td>\n",
       "      <td>14</td>\n",
       "      <td>17</td>\n",
       "      <td>3.0</td>\n",
       "      <td>0.0</td>\n",
       "      <td>14.0</td>\n",
       "      <td>17.0</td>\n",
       "    </tr>\n",
       "    <tr>\n",
       "      <th>1</th>\n",
       "      <td>2016-06-12 00:54:38</td>\n",
       "      <td>40.731152</td>\n",
       "      <td>-73.999481</td>\n",
       "      <td>id2377394</td>\n",
       "      <td>1</td>\n",
       "      <td>2016-06-12 00:43:35</td>\n",
       "      <td>40.738564</td>\n",
       "      <td>-73.980415</td>\n",
       "      <td>train</td>\n",
       "      <td>N</td>\n",
       "      <td>663.0</td>\n",
       "      <td>1</td>\n",
       "      <td>6</td>\n",
       "      <td>6</td>\n",
       "      <td>12</td>\n",
       "      <td>0</td>\n",
       "      <td>6.0</td>\n",
       "      <td>6.0</td>\n",
       "      <td>12.0</td>\n",
       "      <td>0.0</td>\n",
       "    </tr>\n",
       "    <tr>\n",
       "      <th>2</th>\n",
       "      <td>2016-01-19 12:10:48</td>\n",
       "      <td>40.710087</td>\n",
       "      <td>-74.005333</td>\n",
       "      <td>id3858529</td>\n",
       "      <td>1</td>\n",
       "      <td>2016-01-19 11:35:24</td>\n",
       "      <td>40.763939</td>\n",
       "      <td>-73.979027</td>\n",
       "      <td>train</td>\n",
       "      <td>N</td>\n",
       "      <td>2124.0</td>\n",
       "      <td>2</td>\n",
       "      <td>1</td>\n",
       "      <td>1</td>\n",
       "      <td>19</td>\n",
       "      <td>11</td>\n",
       "      <td>1.0</td>\n",
       "      <td>1.0</td>\n",
       "      <td>19.0</td>\n",
       "      <td>12.0</td>\n",
       "    </tr>\n",
       "    <tr>\n",
       "      <th>3</th>\n",
       "      <td>2016-04-06 19:39:40</td>\n",
       "      <td>40.706718</td>\n",
       "      <td>-74.012268</td>\n",
       "      <td>id3504673</td>\n",
       "      <td>1</td>\n",
       "      <td>2016-04-06 19:32:31</td>\n",
       "      <td>40.719971</td>\n",
       "      <td>-74.010040</td>\n",
       "      <td>train</td>\n",
       "      <td>N</td>\n",
       "      <td>429.0</td>\n",
       "      <td>2</td>\n",
       "      <td>4</td>\n",
       "      <td>2</td>\n",
       "      <td>6</td>\n",
       "      <td>19</td>\n",
       "      <td>4.0</td>\n",
       "      <td>2.0</td>\n",
       "      <td>6.0</td>\n",
       "      <td>19.0</td>\n",
       "    </tr>\n",
       "    <tr>\n",
       "      <th>4</th>\n",
       "      <td>2016-03-26 13:38:10</td>\n",
       "      <td>40.782520</td>\n",
       "      <td>-73.972923</td>\n",
       "      <td>id2181028</td>\n",
       "      <td>1</td>\n",
       "      <td>2016-03-26 13:30:55</td>\n",
       "      <td>40.793209</td>\n",
       "      <td>-73.973053</td>\n",
       "      <td>train</td>\n",
       "      <td>N</td>\n",
       "      <td>435.0</td>\n",
       "      <td>2</td>\n",
       "      <td>3</td>\n",
       "      <td>5</td>\n",
       "      <td>26</td>\n",
       "      <td>13</td>\n",
       "      <td>3.0</td>\n",
       "      <td>5.0</td>\n",
       "      <td>26.0</td>\n",
       "      <td>13.0</td>\n",
       "    </tr>\n",
       "  </tbody>\n",
       "</table>\n",
       "</div>"
      ],
      "text/plain": [
       "     dropoff_datetime  dropoff_latitude  dropoff_longitude         id  \\\n",
       "0 2016-03-14 17:32:30         40.765602         -73.964630  id2875421   \n",
       "1 2016-06-12 00:54:38         40.731152         -73.999481  id2377394   \n",
       "2 2016-01-19 12:10:48         40.710087         -74.005333  id3858529   \n",
       "3 2016-04-06 19:39:40         40.706718         -74.012268  id3504673   \n",
       "4 2016-03-26 13:38:10         40.782520         -73.972923  id2181028   \n",
       "\n",
       "   passenger_count     pickup_datetime  pickup_latitude  pickup_longitude  \\\n",
       "0                1 2016-03-14 17:24:55        40.767937        -73.982155   \n",
       "1                1 2016-06-12 00:43:35        40.738564        -73.980415   \n",
       "2                1 2016-01-19 11:35:24        40.763939        -73.979027   \n",
       "3                1 2016-04-06 19:32:31        40.719971        -74.010040   \n",
       "4                1 2016-03-26 13:30:55        40.793209        -73.973053   \n",
       "\n",
       "  source store_and_fwd_flag  trip_duration  vendor_id  pickup_month  \\\n",
       "0  train                  N          455.0          2             3   \n",
       "1  train                  N          663.0          1             6   \n",
       "2  train                  N         2124.0          2             1   \n",
       "3  train                  N          429.0          2             4   \n",
       "4  train                  N          435.0          2             3   \n",
       "\n",
       "   pickup_day_of_week  pickup_day  pickup_hour  dropoff_month  \\\n",
       "0                   0          14           17            3.0   \n",
       "1                   6          12            0            6.0   \n",
       "2                   1          19           11            1.0   \n",
       "3                   2           6           19            4.0   \n",
       "4                   5          26           13            3.0   \n",
       "\n",
       "   dropoff_day_of_week  dropoff_day  dropoff_hour  \n",
       "0                  0.0         14.0          17.0  \n",
       "1                  6.0         12.0           0.0  \n",
       "2                  1.0         19.0          12.0  \n",
       "3                  2.0          6.0          19.0  \n",
       "4                  5.0         26.0          13.0  "
      ]
     },
     "execution_count": 17,
     "metadata": {},
     "output_type": "execute_result"
    }
   ],
   "source": [
    "df.head()"
   ]
  },
  {
   "cell_type": "code",
   "execution_count": 18,
   "metadata": {
    "collapsed": true
   },
   "outputs": [],
   "source": [
    "coords = np.vstack((df[['pickup_latitude', 'pickup_longitude']],\n",
    "                    df[['dropoff_latitude', 'dropoff_longitude']]))\n",
    "sample_ind = np.random.permutation(len(coords))[:1000000]\n",
    "kmeans = MiniBatchKMeans(n_clusters=100, batch_size=20000).fit(coords[sample_ind])"
   ]
  },
  {
   "cell_type": "code",
   "execution_count": 19,
   "metadata": {
    "collapsed": true
   },
   "outputs": [],
   "source": [
    "df['pickup_cluster'] = kmeans.predict(df[['pickup_latitude', 'pickup_longitude']])\n",
    "df['dropoff_cluster'] = kmeans.predict(df[['dropoff_latitude', 'dropoff_longitude']])"
   ]
  },
  {
   "cell_type": "code",
   "execution_count": 20,
   "metadata": {},
   "outputs": [
    {
     "data": {
      "text/html": [
       "<div>\n",
       "<style>\n",
       "    .dataframe thead tr:only-child th {\n",
       "        text-align: right;\n",
       "    }\n",
       "\n",
       "    .dataframe thead th {\n",
       "        text-align: left;\n",
       "    }\n",
       "\n",
       "    .dataframe tbody tr th {\n",
       "        vertical-align: top;\n",
       "    }\n",
       "</style>\n",
       "<table border=\"1\" class=\"dataframe\">\n",
       "  <thead>\n",
       "    <tr style=\"text-align: right;\">\n",
       "      <th></th>\n",
       "      <th>dropoff_datetime</th>\n",
       "      <th>dropoff_latitude</th>\n",
       "      <th>dropoff_longitude</th>\n",
       "      <th>id</th>\n",
       "      <th>passenger_count</th>\n",
       "      <th>pickup_datetime</th>\n",
       "      <th>pickup_latitude</th>\n",
       "      <th>pickup_longitude</th>\n",
       "      <th>source</th>\n",
       "      <th>store_and_fwd_flag</th>\n",
       "      <th>...</th>\n",
       "      <th>pickup_month</th>\n",
       "      <th>pickup_day_of_week</th>\n",
       "      <th>pickup_day</th>\n",
       "      <th>pickup_hour</th>\n",
       "      <th>dropoff_month</th>\n",
       "      <th>dropoff_day_of_week</th>\n",
       "      <th>dropoff_day</th>\n",
       "      <th>dropoff_hour</th>\n",
       "      <th>pickup_cluster</th>\n",
       "      <th>dropoff_cluster</th>\n",
       "    </tr>\n",
       "  </thead>\n",
       "  <tbody>\n",
       "    <tr>\n",
       "      <th>0</th>\n",
       "      <td>2016-03-14 17:32:30</td>\n",
       "      <td>40.765602</td>\n",
       "      <td>-73.964630</td>\n",
       "      <td>id2875421</td>\n",
       "      <td>1</td>\n",
       "      <td>2016-03-14 17:24:55</td>\n",
       "      <td>40.767937</td>\n",
       "      <td>-73.982155</td>\n",
       "      <td>train</td>\n",
       "      <td>N</td>\n",
       "      <td>...</td>\n",
       "      <td>3</td>\n",
       "      <td>0</td>\n",
       "      <td>14</td>\n",
       "      <td>17</td>\n",
       "      <td>3.0</td>\n",
       "      <td>0.0</td>\n",
       "      <td>14.0</td>\n",
       "      <td>17.0</td>\n",
       "      <td>27</td>\n",
       "      <td>73</td>\n",
       "    </tr>\n",
       "    <tr>\n",
       "      <th>1</th>\n",
       "      <td>2016-06-12 00:54:38</td>\n",
       "      <td>40.731152</td>\n",
       "      <td>-73.999481</td>\n",
       "      <td>id2377394</td>\n",
       "      <td>1</td>\n",
       "      <td>2016-06-12 00:43:35</td>\n",
       "      <td>40.738564</td>\n",
       "      <td>-73.980415</td>\n",
       "      <td>train</td>\n",
       "      <td>N</td>\n",
       "      <td>...</td>\n",
       "      <td>6</td>\n",
       "      <td>6</td>\n",
       "      <td>12</td>\n",
       "      <td>0</td>\n",
       "      <td>6.0</td>\n",
       "      <td>6.0</td>\n",
       "      <td>12.0</td>\n",
       "      <td>0.0</td>\n",
       "      <td>34</td>\n",
       "      <td>54</td>\n",
       "    </tr>\n",
       "    <tr>\n",
       "      <th>2</th>\n",
       "      <td>2016-01-19 12:10:48</td>\n",
       "      <td>40.710087</td>\n",
       "      <td>-74.005333</td>\n",
       "      <td>id3858529</td>\n",
       "      <td>1</td>\n",
       "      <td>2016-01-19 11:35:24</td>\n",
       "      <td>40.763939</td>\n",
       "      <td>-73.979027</td>\n",
       "      <td>train</td>\n",
       "      <td>N</td>\n",
       "      <td>...</td>\n",
       "      <td>1</td>\n",
       "      <td>1</td>\n",
       "      <td>19</td>\n",
       "      <td>11</td>\n",
       "      <td>1.0</td>\n",
       "      <td>1.0</td>\n",
       "      <td>19.0</td>\n",
       "      <td>12.0</td>\n",
       "      <td>85</td>\n",
       "      <td>86</td>\n",
       "    </tr>\n",
       "    <tr>\n",
       "      <th>3</th>\n",
       "      <td>2016-04-06 19:39:40</td>\n",
       "      <td>40.706718</td>\n",
       "      <td>-74.012268</td>\n",
       "      <td>id3504673</td>\n",
       "      <td>1</td>\n",
       "      <td>2016-04-06 19:32:31</td>\n",
       "      <td>40.719971</td>\n",
       "      <td>-74.010040</td>\n",
       "      <td>train</td>\n",
       "      <td>N</td>\n",
       "      <td>...</td>\n",
       "      <td>4</td>\n",
       "      <td>2</td>\n",
       "      <td>6</td>\n",
       "      <td>19</td>\n",
       "      <td>4.0</td>\n",
       "      <td>2.0</td>\n",
       "      <td>6.0</td>\n",
       "      <td>19.0</td>\n",
       "      <td>29</td>\n",
       "      <td>6</td>\n",
       "    </tr>\n",
       "    <tr>\n",
       "      <th>4</th>\n",
       "      <td>2016-03-26 13:38:10</td>\n",
       "      <td>40.782520</td>\n",
       "      <td>-73.972923</td>\n",
       "      <td>id2181028</td>\n",
       "      <td>1</td>\n",
       "      <td>2016-03-26 13:30:55</td>\n",
       "      <td>40.793209</td>\n",
       "      <td>-73.973053</td>\n",
       "      <td>train</td>\n",
       "      <td>N</td>\n",
       "      <td>...</td>\n",
       "      <td>3</td>\n",
       "      <td>5</td>\n",
       "      <td>26</td>\n",
       "      <td>13</td>\n",
       "      <td>3.0</td>\n",
       "      <td>5.0</td>\n",
       "      <td>26.0</td>\n",
       "      <td>13.0</td>\n",
       "      <td>76</td>\n",
       "      <td>3</td>\n",
       "    </tr>\n",
       "  </tbody>\n",
       "</table>\n",
       "<p>5 rows × 22 columns</p>\n",
       "</div>"
      ],
      "text/plain": [
       "     dropoff_datetime  dropoff_latitude  dropoff_longitude         id  \\\n",
       "0 2016-03-14 17:32:30         40.765602         -73.964630  id2875421   \n",
       "1 2016-06-12 00:54:38         40.731152         -73.999481  id2377394   \n",
       "2 2016-01-19 12:10:48         40.710087         -74.005333  id3858529   \n",
       "3 2016-04-06 19:39:40         40.706718         -74.012268  id3504673   \n",
       "4 2016-03-26 13:38:10         40.782520         -73.972923  id2181028   \n",
       "\n",
       "   passenger_count     pickup_datetime  pickup_latitude  pickup_longitude  \\\n",
       "0                1 2016-03-14 17:24:55        40.767937        -73.982155   \n",
       "1                1 2016-06-12 00:43:35        40.738564        -73.980415   \n",
       "2                1 2016-01-19 11:35:24        40.763939        -73.979027   \n",
       "3                1 2016-04-06 19:32:31        40.719971        -74.010040   \n",
       "4                1 2016-03-26 13:30:55        40.793209        -73.973053   \n",
       "\n",
       "  source store_and_fwd_flag       ...         pickup_month  \\\n",
       "0  train                  N       ...                    3   \n",
       "1  train                  N       ...                    6   \n",
       "2  train                  N       ...                    1   \n",
       "3  train                  N       ...                    4   \n",
       "4  train                  N       ...                    3   \n",
       "\n",
       "   pickup_day_of_week  pickup_day  pickup_hour  dropoff_month  \\\n",
       "0                   0          14           17            3.0   \n",
       "1                   6          12            0            6.0   \n",
       "2                   1          19           11            1.0   \n",
       "3                   2           6           19            4.0   \n",
       "4                   5          26           13            3.0   \n",
       "\n",
       "   dropoff_day_of_week  dropoff_day  dropoff_hour  pickup_cluster  \\\n",
       "0                  0.0         14.0          17.0              27   \n",
       "1                  6.0         12.0           0.0              34   \n",
       "2                  1.0         19.0          12.0              85   \n",
       "3                  2.0          6.0          19.0              29   \n",
       "4                  5.0         26.0          13.0              76   \n",
       "\n",
       "   dropoff_cluster  \n",
       "0               73  \n",
       "1               54  \n",
       "2               86  \n",
       "3                6  \n",
       "4                3  \n",
       "\n",
       "[5 rows x 22 columns]"
      ]
     },
     "execution_count": 20,
     "metadata": {},
     "output_type": "execute_result"
    }
   ],
   "source": [
    "df.head()"
   ]
  },
  {
   "cell_type": "code",
   "execution_count": 21,
   "metadata": {
    "collapsed": true
   },
   "outputs": [],
   "source": [
    "#df['pickup_longitude'].nunique()"
   ]
  },
  {
   "cell_type": "code",
   "execution_count": 22,
   "metadata": {},
   "outputs": [
    {
     "data": {
      "text/plain": [
       "(1990557, 22)"
      ]
     },
     "execution_count": 22,
     "metadata": {},
     "output_type": "execute_result"
    }
   ],
   "source": [
    "df.shape"
   ]
  },
  {
   "cell_type": "code",
   "execution_count": 23,
   "metadata": {},
   "outputs": [
    {
     "name": "stdout",
     "output_type": "stream",
     "text": [
      "<class 'pandas.core.frame.DataFrame'>\n",
      "RangeIndex: 1990557 entries, 0 to 1990556\n",
      "Data columns (total 22 columns):\n",
      "dropoff_datetime       datetime64[ns]\n",
      "dropoff_latitude       float64\n",
      "dropoff_longitude      float64\n",
      "id                     object\n",
      "passenger_count        int64\n",
      "pickup_datetime        datetime64[ns]\n",
      "pickup_latitude        float64\n",
      "pickup_longitude       float64\n",
      "source                 object\n",
      "store_and_fwd_flag     object\n",
      "trip_duration          float64\n",
      "vendor_id              int64\n",
      "pickup_month           int64\n",
      "pickup_day_of_week     int64\n",
      "pickup_day             int64\n",
      "pickup_hour            int64\n",
      "dropoff_month          float64\n",
      "dropoff_day_of_week    float64\n",
      "dropoff_day            float64\n",
      "dropoff_hour           float64\n",
      "pickup_cluster         int32\n",
      "dropoff_cluster        int32\n",
      "dtypes: datetime64[ns](2), float64(9), int32(2), int64(6), object(3)\n",
      "memory usage: 318.9+ MB\n"
     ]
    }
   ],
   "source": [
    "df.info()"
   ]
  },
  {
   "cell_type": "code",
   "execution_count": 24,
   "metadata": {
    "collapsed": true
   },
   "outputs": [],
   "source": [
    "df = df.drop(['store_and_fwd_flag'], axis = 1)"
   ]
  },
  {
   "cell_type": "code",
   "execution_count": 25,
   "metadata": {},
   "outputs": [
    {
     "name": "stdout",
     "output_type": "stream",
     "text": [
      "<class 'pandas.core.frame.DataFrame'>\n",
      "RangeIndex: 1990557 entries, 0 to 1990556\n",
      "Data columns (total 21 columns):\n",
      "dropoff_datetime       datetime64[ns]\n",
      "dropoff_latitude       float64\n",
      "dropoff_longitude      float64\n",
      "id                     object\n",
      "passenger_count        int64\n",
      "pickup_datetime        datetime64[ns]\n",
      "pickup_latitude        float64\n",
      "pickup_longitude       float64\n",
      "source                 object\n",
      "trip_duration          float64\n",
      "vendor_id              int64\n",
      "pickup_month           int64\n",
      "pickup_day_of_week     int64\n",
      "pickup_day             int64\n",
      "pickup_hour            int64\n",
      "dropoff_month          float64\n",
      "dropoff_day_of_week    float64\n",
      "dropoff_day            float64\n",
      "dropoff_hour           float64\n",
      "pickup_cluster         int32\n",
      "dropoff_cluster        int32\n",
      "dtypes: datetime64[ns](2), float64(9), int32(2), int64(6), object(2)\n",
      "memory usage: 303.7+ MB\n"
     ]
    }
   ],
   "source": [
    "df.info()"
   ]
  },
  {
   "cell_type": "code",
   "execution_count": 26,
   "metadata": {
    "collapsed": true
   },
   "outputs": [],
   "source": [
    "#calculate the distance between two coordinates\n",
    "def haversine_np(lon1, lat1, lon2, lat2):\n",
    "    \"\"\"\n",
    "    Calculate the great circle distance between two points\n",
    "    on the earth (specified in decimal degrees)\n",
    "\n",
    "    All args must be of equal length.    \n",
    "\n",
    "    \"\"\"\n",
    "    lon1, lat1, lon2, lat2 = map(np.radians, [lon1, lat1, lon2, lat2])\n",
    "\n",
    "    dlon = lon2 - lon1\n",
    "    dlat = lat2 - lat1\n",
    "\n",
    "    a = np.sin(dlat/2.0)**2 + np.cos(lat1) * np.cos(lat2) * np.sin(dlon/2.0)**2\n",
    "\n",
    "    c = 2 * np.arcsin(np.sqrt(a))\n",
    "    km = 6367 * c\n",
    "    return km"
   ]
  },
  {
   "cell_type": "code",
   "execution_count": 27,
   "metadata": {
    "collapsed": true
   },
   "outputs": [],
   "source": [
    "def bearing_array(lat1, lng1, lat2, lng2):\n",
    "    AVG_EARTH_RADIUS = 6371  # in km\n",
    "    lng_delta_rad = np.radians(lng2 - lng1)\n",
    "    lat1, lng1, lat2, lng2 = map(np.radians, (lat1, lng1, lat2, lng2))\n",
    "    y = np.sin(lng_delta_rad) * np.cos(lat2)\n",
    "    x = np.cos(lat1) * np.sin(lat2) - np.sin(lat1) * np.cos(lat2) * np.cos(lng_delta_rad)\n",
    "    return np.degrees(np.arctan2(y, x))"
   ]
  },
  {
   "cell_type": "code",
   "execution_count": 28,
   "metadata": {
    "collapsed": true
   },
   "outputs": [],
   "source": [
    "def dummy_manhattan_distance(lat1, lng1, lat2, lng2):\n",
    "    a = haversine_np(lat1, lng1, lat1, lng2)\n",
    "    b = haversine_np(lat1, lng1, lat2, lng1)\n",
    "    return a + b"
   ]
  },
  {
   "cell_type": "code",
   "execution_count": 29,
   "metadata": {
    "collapsed": true
   },
   "outputs": [],
   "source": [
    "df['distance'] = haversine_np(df['pickup_longitude'], df['pickup_latitude'], df['dropoff_longitude'], df['dropoff_latitude'])"
   ]
  },
  {
   "cell_type": "code",
   "execution_count": 30,
   "metadata": {
    "collapsed": true
   },
   "outputs": [],
   "source": [
    "df['manhattan_distance'] = dummy_manhattan_distance(df['pickup_longitude'], df['pickup_latitude'], df['dropoff_longitude'], df['dropoff_latitude'])"
   ]
  },
  {
   "cell_type": "markdown",
   "metadata": {},
   "source": [
    "# Add new features including SPEED"
   ]
  },
  {
   "cell_type": "code",
   "execution_count": 31,
   "metadata": {
    "collapsed": true
   },
   "outputs": [],
   "source": [
    "#groupby pickup hour and piup cluster and dropoff cluster, then calculate the average speed\n",
    "# df['speed'] = df['manhattan_distance'] / df['trip_duration']\n",
    "# cluster_speed = df.groupby(['pickup_day_of_week', 'pickup_hour', 'pickup_cluster', 'dropoff_cluster']).mean()"
   ]
  },
  {
   "cell_type": "code",
   "execution_count": 32,
   "metadata": {
    "collapsed": true
   },
   "outputs": [],
   "source": [
    "# cluster_speed = cluster_speed.drop(['dropoff_latitude', 'dropoff_longitude', 'passenger_count',\n",
    "#        'pickup_latitude', 'pickup_longitude', 'trip_duration', 'vendor_id',\n",
    "#        'pickup_month', 'pickup_day', 'dropoff_month', 'dropoff_day_of_week',\n",
    "#        'dropoff_day', 'dropoff_hour', 'distance', 'manhattan_distance'], axis = 1)"
   ]
  },
  {
   "cell_type": "code",
   "execution_count": 33,
   "metadata": {
    "collapsed": true
   },
   "outputs": [],
   "source": [
    "#cluster_speed = cluster_speed.reset_index(level=['pickup_day_of_week', 'pickup_hour', 'pickup_cluster', 'dropoff_cluster'])"
   ]
  },
  {
   "cell_type": "code",
   "execution_count": 34,
   "metadata": {},
   "outputs": [],
   "source": [
    "#cluster_speed.columns"
   ]
  },
  {
   "cell_type": "code",
   "execution_count": 35,
   "metadata": {
    "collapsed": true
   },
   "outputs": [],
   "source": [
    "#cluster_speed = cluster_speed[['pickup_day_of_week', 'pickup_hour', 'pickup_cluster', 'dropoff_cluster', 'pickup_latitude', 'pickup_longitude', 'dropoff_latitude', 'dropoff_longitude','speed']]"
   ]
  },
  {
   "cell_type": "code",
   "execution_count": 36,
   "metadata": {
    "collapsed": true
   },
   "outputs": [],
   "source": [
    "#df002 = pd.merge(df, cluster_speed, how='outer', on=['pickup_latitude', 'pickup_longitude', 'dropoff_latitude', 'dropoff_longitude'])"
   ]
  },
  {
   "cell_type": "code",
   "execution_count": 37,
   "metadata": {
    "collapsed": true
   },
   "outputs": [],
   "source": [
    "#df002.head()"
   ]
  },
  {
   "cell_type": "markdown",
   "metadata": {},
   "source": [
    "# Deal with categorical values"
   ]
  },
  {
   "cell_type": "code",
   "execution_count": 38,
   "metadata": {
    "collapsed": true
   },
   "outputs": [],
   "source": [
    "#use different dataframe to store numerical values\n",
    "pickup_month = pd.get_dummies(df['pickup_month'], prefix='pickup_month')\n",
    "pickup_hour = pd.get_dummies(df['pickup_hour'], prefix='pickup_hour')\n",
    "pickup_dayofweek = pd.get_dummies(df['pickup_day_of_week'], prefix='pickup_day_of_week')\n",
    "pickup_day = pd.get_dummies(df['pickup_day'], prefix='pickup_day')\n",
    "dropoff_month = pd.get_dummies(df['dropoff_month'], prefix='dropoff_month')\n",
    "dropoff_hour = pd.get_dummies(df['dropoff_hour'], prefix='dropoff_hour')\n",
    "dropoff_dayofweek = pd.get_dummies(df['dropoff_day_of_week'], prefix='dropoff_day_of_week')\n",
    "dropoff_day = pd.get_dummies(df['dropoff_day'], prefix='dropoff_day')"
   ]
  },
  {
   "cell_type": "code",
   "execution_count": 39,
   "metadata": {
    "collapsed": true
   },
   "outputs": [],
   "source": [
    "pickup_cluster = pd.get_dummies(df['pickup_cluster'], prefix='pickup_cluster')\n",
    "dropoff_cluster = pd.get_dummies(df['dropoff_cluster'], prefix='dropoff_cluster')"
   ]
  },
  {
   "cell_type": "code",
   "execution_count": 40,
   "metadata": {
    "collapsed": true
   },
   "outputs": [],
   "source": [
    "passenger_count = pd.get_dummies(df['passenger_count'], prefix='passenger_count')\n",
    "vendor_id = pd.get_dummies(df['vendor_id'], prefix='vendor_id')"
   ]
  },
  {
   "cell_type": "code",
   "execution_count": 41,
   "metadata": {
    "collapsed": true
   },
   "outputs": [],
   "source": [
    "#drop old categorical columns and concat new numerical columns\n",
    "df_numerical = df.drop(['pickup_cluster', 'pickup_day', 'pickup_day_of_week', 'pickup_hour', 'pickup_month', 'dropoff_cluster', 'dropoff_day', 'dropoff_day_of_week', 'dropoff_hour', 'dropoff_month', 'passenger_count', 'vendor_id'], axis = 1)\n",
    "df_numerical = pd.concat([df_numerical, pickup_month, pickup_day, pickup_dayofweek, pickup_hour, pickup_cluster, dropoff_month, dropoff_day, dropoff_dayofweek, dropoff_hour, dropoff_cluster, passenger_count, vendor_id], axis = 1)"
   ]
  },
  {
   "cell_type": "code",
   "execution_count": 42,
   "metadata": {},
   "outputs": [
    {
     "data": {
      "text/html": [
       "<div>\n",
       "<style>\n",
       "    .dataframe thead tr:only-child th {\n",
       "        text-align: right;\n",
       "    }\n",
       "\n",
       "    .dataframe thead th {\n",
       "        text-align: left;\n",
       "    }\n",
       "\n",
       "    .dataframe tbody tr th {\n",
       "        vertical-align: top;\n",
       "    }\n",
       "</style>\n",
       "<table border=\"1\" class=\"dataframe\">\n",
       "  <thead>\n",
       "    <tr style=\"text-align: right;\">\n",
       "      <th></th>\n",
       "      <th>dropoff_latitude</th>\n",
       "      <th>dropoff_longitude</th>\n",
       "      <th>id</th>\n",
       "      <th>pickup_latitude</th>\n",
       "      <th>pickup_longitude</th>\n",
       "      <th>source</th>\n",
       "      <th>trip_duration</th>\n",
       "      <th>distance</th>\n",
       "      <th>manhattan_distance</th>\n",
       "      <th>pickup_month_1</th>\n",
       "      <th>...</th>\n",
       "      <th>passenger_count_1</th>\n",
       "      <th>passenger_count_2</th>\n",
       "      <th>passenger_count_3</th>\n",
       "      <th>passenger_count_4</th>\n",
       "      <th>passenger_count_5</th>\n",
       "      <th>passenger_count_6</th>\n",
       "      <th>passenger_count_8</th>\n",
       "      <th>passenger_count_9</th>\n",
       "      <th>vendor_id_1</th>\n",
       "      <th>vendor_id_2</th>\n",
       "    </tr>\n",
       "  </thead>\n",
       "  <tbody>\n",
       "    <tr>\n",
       "      <th>0</th>\n",
       "      <td>40.765602</td>\n",
       "      <td>-73.964630</td>\n",
       "      <td>id2875421</td>\n",
       "      <td>40.767937</td>\n",
       "      <td>-73.982155</td>\n",
       "      <td>train</td>\n",
       "      <td>455.0</td>\n",
       "      <td>1.497580</td>\n",
       "      <td>1.734344</td>\n",
       "      <td>0</td>\n",
       "      <td>...</td>\n",
       "      <td>1</td>\n",
       "      <td>0</td>\n",
       "      <td>0</td>\n",
       "      <td>0</td>\n",
       "      <td>0</td>\n",
       "      <td>0</td>\n",
       "      <td>0</td>\n",
       "      <td>0</td>\n",
       "      <td>0</td>\n",
       "      <td>1</td>\n",
       "    </tr>\n",
       "    <tr>\n",
       "      <th>1</th>\n",
       "      <td>40.731152</td>\n",
       "      <td>-73.999481</td>\n",
       "      <td>id2377394</td>\n",
       "      <td>40.738564</td>\n",
       "      <td>-73.980415</td>\n",
       "      <td>train</td>\n",
       "      <td>663.0</td>\n",
       "      <td>1.804374</td>\n",
       "      <td>2.428980</td>\n",
       "      <td>0</td>\n",
       "      <td>...</td>\n",
       "      <td>1</td>\n",
       "      <td>0</td>\n",
       "      <td>0</td>\n",
       "      <td>0</td>\n",
       "      <td>0</td>\n",
       "      <td>0</td>\n",
       "      <td>0</td>\n",
       "      <td>0</td>\n",
       "      <td>1</td>\n",
       "      <td>0</td>\n",
       "    </tr>\n",
       "    <tr>\n",
       "      <th>2</th>\n",
       "      <td>40.710087</td>\n",
       "      <td>-74.005333</td>\n",
       "      <td>id3858529</td>\n",
       "      <td>40.763939</td>\n",
       "      <td>-73.979027</td>\n",
       "      <td>train</td>\n",
       "      <td>2124.0</td>\n",
       "      <td>6.381090</td>\n",
       "      <td>8.198424</td>\n",
       "      <td>1</td>\n",
       "      <td>...</td>\n",
       "      <td>1</td>\n",
       "      <td>0</td>\n",
       "      <td>0</td>\n",
       "      <td>0</td>\n",
       "      <td>0</td>\n",
       "      <td>0</td>\n",
       "      <td>0</td>\n",
       "      <td>0</td>\n",
       "      <td>0</td>\n",
       "      <td>1</td>\n",
       "    </tr>\n",
       "    <tr>\n",
       "      <th>3</th>\n",
       "      <td>40.706718</td>\n",
       "      <td>-74.012268</td>\n",
       "      <td>id3504673</td>\n",
       "      <td>40.719971</td>\n",
       "      <td>-74.010040</td>\n",
       "      <td>train</td>\n",
       "      <td>429.0</td>\n",
       "      <td>1.484566</td>\n",
       "      <td>1.660288</td>\n",
       "      <td>0</td>\n",
       "      <td>...</td>\n",
       "      <td>1</td>\n",
       "      <td>0</td>\n",
       "      <td>0</td>\n",
       "      <td>0</td>\n",
       "      <td>0</td>\n",
       "      <td>0</td>\n",
       "      <td>0</td>\n",
       "      <td>0</td>\n",
       "      <td>0</td>\n",
       "      <td>1</td>\n",
       "    </tr>\n",
       "    <tr>\n",
       "      <th>4</th>\n",
       "      <td>40.782520</td>\n",
       "      <td>-73.972923</td>\n",
       "      <td>id2181028</td>\n",
       "      <td>40.793209</td>\n",
       "      <td>-73.973053</td>\n",
       "      <td>train</td>\n",
       "      <td>435.0</td>\n",
       "      <td>1.187842</td>\n",
       "      <td>1.198704</td>\n",
       "      <td>0</td>\n",
       "      <td>...</td>\n",
       "      <td>1</td>\n",
       "      <td>0</td>\n",
       "      <td>0</td>\n",
       "      <td>0</td>\n",
       "      <td>0</td>\n",
       "      <td>0</td>\n",
       "      <td>0</td>\n",
       "      <td>0</td>\n",
       "      <td>0</td>\n",
       "      <td>1</td>\n",
       "    </tr>\n",
       "  </tbody>\n",
       "</table>\n",
       "<p>5 rows × 357 columns</p>\n",
       "</div>"
      ],
      "text/plain": [
       "   dropoff_latitude  dropoff_longitude         id  pickup_latitude  \\\n",
       "0         40.765602         -73.964630  id2875421        40.767937   \n",
       "1         40.731152         -73.999481  id2377394        40.738564   \n",
       "2         40.710087         -74.005333  id3858529        40.763939   \n",
       "3         40.706718         -74.012268  id3504673        40.719971   \n",
       "4         40.782520         -73.972923  id2181028        40.793209   \n",
       "\n",
       "   pickup_longitude source  trip_duration  distance  manhattan_distance  \\\n",
       "0        -73.982155  train          455.0  1.497580            1.734344   \n",
       "1        -73.980415  train          663.0  1.804374            2.428980   \n",
       "2        -73.979027  train         2124.0  6.381090            8.198424   \n",
       "3        -74.010040  train          429.0  1.484566            1.660288   \n",
       "4        -73.973053  train          435.0  1.187842            1.198704   \n",
       "\n",
       "   pickup_month_1     ...       passenger_count_1  passenger_count_2  \\\n",
       "0               0     ...                       1                  0   \n",
       "1               0     ...                       1                  0   \n",
       "2               1     ...                       1                  0   \n",
       "3               0     ...                       1                  0   \n",
       "4               0     ...                       1                  0   \n",
       "\n",
       "   passenger_count_3  passenger_count_4  passenger_count_5  passenger_count_6  \\\n",
       "0                  0                  0                  0                  0   \n",
       "1                  0                  0                  0                  0   \n",
       "2                  0                  0                  0                  0   \n",
       "3                  0                  0                  0                  0   \n",
       "4                  0                  0                  0                  0   \n",
       "\n",
       "   passenger_count_8  passenger_count_9  vendor_id_1  vendor_id_2  \n",
       "0                  0                  0            0            1  \n",
       "1                  0                  0            1            0  \n",
       "2                  0                  0            0            1  \n",
       "3                  0                  0            0            1  \n",
       "4                  0                  0            0            1  \n",
       "\n",
       "[5 rows x 357 columns]"
      ]
     },
     "execution_count": 42,
     "metadata": {},
     "output_type": "execute_result"
    }
   ],
   "source": [
    "df_numerical = df_numerical.drop(['pickup_datetime', 'dropoff_datetime'], axis = 1)\n",
    "df_numerical.head()"
   ]
  },
  {
   "cell_type": "markdown",
   "metadata": {},
   "source": [
    "# Feature Scaling"
   ]
  },
  {
   "cell_type": "code",
   "execution_count": 43,
   "metadata": {
    "collapsed": true
   },
   "outputs": [],
   "source": [
    "sc = StandardScaler()"
   ]
  },
  {
   "cell_type": "code",
   "execution_count": 44,
   "metadata": {},
   "outputs": [
    {
     "name": "stderr",
     "output_type": "stream",
     "text": [
      "/anaconda/lib/python3.6/site-packages/sklearn/preprocessing/data.py:586: DeprecationWarning: Passing 1d arrays as data is deprecated in 0.17 and will raise ValueError in 0.19. Reshape your data either using X.reshape(-1, 1) if your data has a single feature or X.reshape(1, -1) if it contains a single sample.\n",
      "  warnings.warn(DEPRECATION_MSG_1D, DeprecationWarning)\n",
      "/anaconda/lib/python3.6/site-packages/sklearn/preprocessing/data.py:649: DeprecationWarning: Passing 1d arrays as data is deprecated in 0.17 and will raise ValueError in 0.19. Reshape your data either using X.reshape(-1, 1) if your data has a single feature or X.reshape(1, -1) if it contains a single sample.\n",
      "  warnings.warn(DEPRECATION_MSG_1D, DeprecationWarning)\n"
     ]
    }
   ],
   "source": [
    "df_numerical['sc_distance'] = sc.fit_transform(df_numerical['distance'])"
   ]
  },
  {
   "cell_type": "code",
   "execution_count": 45,
   "metadata": {
    "collapsed": true
   },
   "outputs": [],
   "source": [
    "# df['sc_distance']"
   ]
  },
  {
   "cell_type": "code",
   "execution_count": 46,
   "metadata": {
    "collapsed": true
   },
   "outputs": [],
   "source": [
    "df_numerical['direction'] = bearing_array(df_numerical['pickup_latitude'], df_numerical['pickup_longitude'], df_numerical['dropoff_latitude'], df_numerical['dropoff_longitude'])"
   ]
  },
  {
   "cell_type": "code",
   "execution_count": 47,
   "metadata": {},
   "outputs": [
    {
     "name": "stderr",
     "output_type": "stream",
     "text": [
      "/anaconda/lib/python3.6/site-packages/sklearn/preprocessing/data.py:586: DeprecationWarning: Passing 1d arrays as data is deprecated in 0.17 and will raise ValueError in 0.19. Reshape your data either using X.reshape(-1, 1) if your data has a single feature or X.reshape(1, -1) if it contains a single sample.\n",
      "  warnings.warn(DEPRECATION_MSG_1D, DeprecationWarning)\n",
      "/anaconda/lib/python3.6/site-packages/sklearn/preprocessing/data.py:649: DeprecationWarning: Passing 1d arrays as data is deprecated in 0.17 and will raise ValueError in 0.19. Reshape your data either using X.reshape(-1, 1) if your data has a single feature or X.reshape(1, -1) if it contains a single sample.\n",
      "  warnings.warn(DEPRECATION_MSG_1D, DeprecationWarning)\n"
     ]
    }
   ],
   "source": [
    "df_numerical['sc_direction'] = sc.fit_transform(df_numerical['direction'])"
   ]
  },
  {
   "cell_type": "code",
   "execution_count": 48,
   "metadata": {},
   "outputs": [
    {
     "name": "stderr",
     "output_type": "stream",
     "text": [
      "/anaconda/lib/python3.6/site-packages/sklearn/preprocessing/data.py:586: DeprecationWarning: Passing 1d arrays as data is deprecated in 0.17 and will raise ValueError in 0.19. Reshape your data either using X.reshape(-1, 1) if your data has a single feature or X.reshape(1, -1) if it contains a single sample.\n",
      "  warnings.warn(DEPRECATION_MSG_1D, DeprecationWarning)\n",
      "/anaconda/lib/python3.6/site-packages/sklearn/preprocessing/data.py:649: DeprecationWarning: Passing 1d arrays as data is deprecated in 0.17 and will raise ValueError in 0.19. Reshape your data either using X.reshape(-1, 1) if your data has a single feature or X.reshape(1, -1) if it contains a single sample.\n",
      "  warnings.warn(DEPRECATION_MSG_1D, DeprecationWarning)\n",
      "/anaconda/lib/python3.6/site-packages/sklearn/preprocessing/data.py:586: DeprecationWarning: Passing 1d arrays as data is deprecated in 0.17 and will raise ValueError in 0.19. Reshape your data either using X.reshape(-1, 1) if your data has a single feature or X.reshape(1, -1) if it contains a single sample.\n",
      "  warnings.warn(DEPRECATION_MSG_1D, DeprecationWarning)\n",
      "/anaconda/lib/python3.6/site-packages/sklearn/preprocessing/data.py:649: DeprecationWarning: Passing 1d arrays as data is deprecated in 0.17 and will raise ValueError in 0.19. Reshape your data either using X.reshape(-1, 1) if your data has a single feature or X.reshape(1, -1) if it contains a single sample.\n",
      "  warnings.warn(DEPRECATION_MSG_1D, DeprecationWarning)\n"
     ]
    }
   ],
   "source": [
    "df_numerical['sc_pickup_latitude'] = sc.fit_transform(df_numerical['pickup_latitude'])\n",
    "df_numerical['sc_pickup_longitude'] = sc.fit_transform(df_numerical['pickup_longitude'])"
   ]
  },
  {
   "cell_type": "markdown",
   "metadata": {},
   "source": [
    "# Add OSRM dataset"
   ]
  },
  {
   "cell_type": "code",
   "execution_count": 49,
   "metadata": {
    "collapsed": true
   },
   "outputs": [],
   "source": [
    "train_osrm1 = pd.read_csv(\"new-york-city-taxi-with-osrm/fastest_routes_train_part_1.csv\")\n",
    "train_osrm2 = pd.read_csv(\"new-york-city-taxi-with-osrm/fastest_routes_train_part_2.csv\")\n",
    "test_osrm = pd.read_csv(\"new-york-city-taxi-with-osrm/fastest_routes_test.csv\")"
   ]
  },
  {
   "cell_type": "code",
   "execution_count": 50,
   "metadata": {
    "collapsed": true
   },
   "outputs": [],
   "source": [
    "train_osrm = pd.concat([train_osrm1, train_osrm2])"
   ]
  },
  {
   "cell_type": "code",
   "execution_count": 51,
   "metadata": {},
   "outputs": [
    {
     "data": {
      "text/html": [
       "<div>\n",
       "<style>\n",
       "    .dataframe thead tr:only-child th {\n",
       "        text-align: right;\n",
       "    }\n",
       "\n",
       "    .dataframe thead th {\n",
       "        text-align: left;\n",
       "    }\n",
       "\n",
       "    .dataframe tbody tr th {\n",
       "        vertical-align: top;\n",
       "    }\n",
       "</style>\n",
       "<table border=\"1\" class=\"dataframe\">\n",
       "  <thead>\n",
       "    <tr style=\"text-align: right;\">\n",
       "      <th></th>\n",
       "      <th>id</th>\n",
       "      <th>starting_street</th>\n",
       "      <th>end_street</th>\n",
       "      <th>total_distance</th>\n",
       "      <th>total_travel_time</th>\n",
       "      <th>number_of_steps</th>\n",
       "      <th>street_for_each_step</th>\n",
       "      <th>distance_per_step</th>\n",
       "      <th>travel_time_per_step</th>\n",
       "      <th>step_maneuvers</th>\n",
       "      <th>step_direction</th>\n",
       "      <th>step_location_list</th>\n",
       "    </tr>\n",
       "  </thead>\n",
       "  <tbody>\n",
       "    <tr>\n",
       "      <th>0</th>\n",
       "      <td>id2875421</td>\n",
       "      <td>Columbus Circle</td>\n",
       "      <td>East 65th Street</td>\n",
       "      <td>2009.1</td>\n",
       "      <td>164.9</td>\n",
       "      <td>5</td>\n",
       "      <td>Columbus Circle|Central Park West|65th Street ...</td>\n",
       "      <td>0|576.4|885.6|547.1|0</td>\n",
       "      <td>0|61.1|60.1|43.7|0</td>\n",
       "      <td>depart|rotary|turn|new name|arrive</td>\n",
       "      <td>left|straight|right|straight|arrive</td>\n",
       "      <td>-73.982316,40.767869|-73.981997,40.767688|-73....</td>\n",
       "    </tr>\n",
       "    <tr>\n",
       "      <th>1</th>\n",
       "      <td>id2377394</td>\n",
       "      <td>2nd Avenue</td>\n",
       "      <td>Washington Square West</td>\n",
       "      <td>2513.2</td>\n",
       "      <td>332.0</td>\n",
       "      <td>6</td>\n",
       "      <td>2nd Avenue|East 13th Street|5th Avenue|Washing...</td>\n",
       "      <td>877.3|836.5|496.1|164.2|139.1|0</td>\n",
       "      <td>111.7|109|69.9|25.8|15.6|0</td>\n",
       "      <td>depart|turn|turn|end of road|continue|arrive</td>\n",
       "      <td>none|right|left|right|left|arrive</td>\n",
       "      <td>-73.980429,40.73857|-73.985444,40.731658|-73.9...</td>\n",
       "    </tr>\n",
       "    <tr>\n",
       "      <th>2</th>\n",
       "      <td>id3504673</td>\n",
       "      <td>Greenwich Street</td>\n",
       "      <td>Broadway</td>\n",
       "      <td>1779.4</td>\n",
       "      <td>235.8</td>\n",
       "      <td>4</td>\n",
       "      <td>Greenwich Street|Park Place|Broadway|Broadway</td>\n",
       "      <td>644.2|379.9|755.3|0</td>\n",
       "      <td>80.5|50.8|104.5|0</td>\n",
       "      <td>depart|turn|end of road|arrive</td>\n",
       "      <td>left|left|right|arrive</td>\n",
       "      <td>-74.010145,40.719982|-74.011527,40.714294|-74....</td>\n",
       "    </tr>\n",
       "    <tr>\n",
       "      <th>3</th>\n",
       "      <td>id2181028</td>\n",
       "      <td>Broadway</td>\n",
       "      <td>West 81st Street</td>\n",
       "      <td>1614.9</td>\n",
       "      <td>140.1</td>\n",
       "      <td>5</td>\n",
       "      <td>Broadway|West 86th Street|Columbus Avenue|West...</td>\n",
       "      <td>617|427.4|412.2|158.3|0</td>\n",
       "      <td>56|36|37.8|10.3|0</td>\n",
       "      <td>depart|turn|turn|turn|arrive</td>\n",
       "      <td>right|left|right|left|arrive</td>\n",
       "      <td>-73.972998,40.793187|-73.976607,40.788361|-73....</td>\n",
       "    </tr>\n",
       "    <tr>\n",
       "      <th>4</th>\n",
       "      <td>id0801584</td>\n",
       "      <td>Lexington Avenue</td>\n",
       "      <td>West 31st Street</td>\n",
       "      <td>1393.5</td>\n",
       "      <td>189.4</td>\n",
       "      <td>5</td>\n",
       "      <td>Lexington Avenue|East 27th Street|Madison Aven...</td>\n",
       "      <td>18.9|311.9|313.3|749.4|0</td>\n",
       "      <td>6.3|42.9|48.4|91.8|0</td>\n",
       "      <td>depart|turn|turn|turn|arrive</td>\n",
       "      <td>right|right|right|left|arrive</td>\n",
       "      <td>-73.982805,40.742173|-73.982914,40.742024|-73....</td>\n",
       "    </tr>\n",
       "  </tbody>\n",
       "</table>\n",
       "</div>"
      ],
      "text/plain": [
       "          id   starting_street              end_street  total_distance  \\\n",
       "0  id2875421   Columbus Circle        East 65th Street          2009.1   \n",
       "1  id2377394        2nd Avenue  Washington Square West          2513.2   \n",
       "2  id3504673  Greenwich Street                Broadway          1779.4   \n",
       "3  id2181028          Broadway        West 81st Street          1614.9   \n",
       "4  id0801584  Lexington Avenue        West 31st Street          1393.5   \n",
       "\n",
       "   total_travel_time  number_of_steps  \\\n",
       "0              164.9                5   \n",
       "1              332.0                6   \n",
       "2              235.8                4   \n",
       "3              140.1                5   \n",
       "4              189.4                5   \n",
       "\n",
       "                                street_for_each_step  \\\n",
       "0  Columbus Circle|Central Park West|65th Street ...   \n",
       "1  2nd Avenue|East 13th Street|5th Avenue|Washing...   \n",
       "2      Greenwich Street|Park Place|Broadway|Broadway   \n",
       "3  Broadway|West 86th Street|Columbus Avenue|West...   \n",
       "4  Lexington Avenue|East 27th Street|Madison Aven...   \n",
       "\n",
       "                 distance_per_step        travel_time_per_step  \\\n",
       "0            0|576.4|885.6|547.1|0          0|61.1|60.1|43.7|0   \n",
       "1  877.3|836.5|496.1|164.2|139.1|0  111.7|109|69.9|25.8|15.6|0   \n",
       "2              644.2|379.9|755.3|0           80.5|50.8|104.5|0   \n",
       "3          617|427.4|412.2|158.3|0           56|36|37.8|10.3|0   \n",
       "4         18.9|311.9|313.3|749.4|0        6.3|42.9|48.4|91.8|0   \n",
       "\n",
       "                                 step_maneuvers  \\\n",
       "0            depart|rotary|turn|new name|arrive   \n",
       "1  depart|turn|turn|end of road|continue|arrive   \n",
       "2                depart|turn|end of road|arrive   \n",
       "3                  depart|turn|turn|turn|arrive   \n",
       "4                  depart|turn|turn|turn|arrive   \n",
       "\n",
       "                        step_direction  \\\n",
       "0  left|straight|right|straight|arrive   \n",
       "1    none|right|left|right|left|arrive   \n",
       "2               left|left|right|arrive   \n",
       "3         right|left|right|left|arrive   \n",
       "4        right|right|right|left|arrive   \n",
       "\n",
       "                                  step_location_list  \n",
       "0  -73.982316,40.767869|-73.981997,40.767688|-73....  \n",
       "1  -73.980429,40.73857|-73.985444,40.731658|-73.9...  \n",
       "2  -74.010145,40.719982|-74.011527,40.714294|-74....  \n",
       "3  -73.972998,40.793187|-73.976607,40.788361|-73....  \n",
       "4  -73.982805,40.742173|-73.982914,40.742024|-73....  "
      ]
     },
     "execution_count": 51,
     "metadata": {},
     "output_type": "execute_result"
    }
   ],
   "source": [
    "train_osrm.head()"
   ]
  },
  {
   "cell_type": "code",
   "execution_count": 52,
   "metadata": {
    "collapsed": true
   },
   "outputs": [],
   "source": [
    "df_osrm = pd.concat([train_osrm, test_osrm])"
   ]
  },
  {
   "cell_type": "code",
   "execution_count": 53,
   "metadata": {
    "collapsed": true
   },
   "outputs": [],
   "source": [
    "df_numerical = df_numerical.merge(df_osrm, how='left', on='id')"
   ]
  },
  {
   "cell_type": "code",
   "execution_count": 54,
   "metadata": {},
   "outputs": [
    {
     "data": {
      "text/plain": [
       "0"
      ]
     },
     "execution_count": 54,
     "metadata": {},
     "output_type": "execute_result"
    }
   ],
   "source": [
    "df_numerical['number_of_steps'].isnull().sum()"
   ]
  },
  {
   "cell_type": "code",
   "execution_count": 55,
   "metadata": {},
   "outputs": [
    {
     "name": "stderr",
     "output_type": "stream",
     "text": [
      "/anaconda/lib/python3.6/site-packages/sklearn/preprocessing/data.py:586: DeprecationWarning: Passing 1d arrays as data is deprecated in 0.17 and will raise ValueError in 0.19. Reshape your data either using X.reshape(-1, 1) if your data has a single feature or X.reshape(1, -1) if it contains a single sample.\n",
      "  warnings.warn(DEPRECATION_MSG_1D, DeprecationWarning)\n",
      "/anaconda/lib/python3.6/site-packages/sklearn/preprocessing/data.py:649: DeprecationWarning: Passing 1d arrays as data is deprecated in 0.17 and will raise ValueError in 0.19. Reshape your data either using X.reshape(-1, 1) if your data has a single feature or X.reshape(1, -1) if it contains a single sample.\n",
      "  warnings.warn(DEPRECATION_MSG_1D, DeprecationWarning)\n",
      "/anaconda/lib/python3.6/site-packages/sklearn/preprocessing/data.py:586: DeprecationWarning: Passing 1d arrays as data is deprecated in 0.17 and will raise ValueError in 0.19. Reshape your data either using X.reshape(-1, 1) if your data has a single feature or X.reshape(1, -1) if it contains a single sample.\n",
      "  warnings.warn(DEPRECATION_MSG_1D, DeprecationWarning)\n",
      "/anaconda/lib/python3.6/site-packages/sklearn/preprocessing/data.py:649: DeprecationWarning: Passing 1d arrays as data is deprecated in 0.17 and will raise ValueError in 0.19. Reshape your data either using X.reshape(-1, 1) if your data has a single feature or X.reshape(1, -1) if it contains a single sample.\n",
      "  warnings.warn(DEPRECATION_MSG_1D, DeprecationWarning)\n"
     ]
    }
   ],
   "source": [
    "df_numerical['sc_dropoff_latitude'] = sc.fit_transform(df_numerical['dropoff_latitude'])\n",
    "df_numerical['sc_dropoff_longitude'] = sc.fit_transform(df_numerical['dropoff_longitude'])"
   ]
  },
  {
   "cell_type": "markdown",
   "metadata": {},
   "source": [
    "# Feature Scaling for OSRM features"
   ]
  },
  {
   "cell_type": "code",
   "execution_count": 56,
   "metadata": {},
   "outputs": [
    {
     "name": "stderr",
     "output_type": "stream",
     "text": [
      "/anaconda/lib/python3.6/site-packages/sklearn/preprocessing/data.py:586: DeprecationWarning: Passing 1d arrays as data is deprecated in 0.17 and will raise ValueError in 0.19. Reshape your data either using X.reshape(-1, 1) if your data has a single feature or X.reshape(1, -1) if it contains a single sample.\n",
      "  warnings.warn(DEPRECATION_MSG_1D, DeprecationWarning)\n",
      "/anaconda/lib/python3.6/site-packages/sklearn/preprocessing/data.py:649: DeprecationWarning: Passing 1d arrays as data is deprecated in 0.17 and will raise ValueError in 0.19. Reshape your data either using X.reshape(-1, 1) if your data has a single feature or X.reshape(1, -1) if it contains a single sample.\n",
      "  warnings.warn(DEPRECATION_MSG_1D, DeprecationWarning)\n",
      "/anaconda/lib/python3.6/site-packages/sklearn/preprocessing/data.py:586: DeprecationWarning: Passing 1d arrays as data is deprecated in 0.17 and will raise ValueError in 0.19. Reshape your data either using X.reshape(-1, 1) if your data has a single feature or X.reshape(1, -1) if it contains a single sample.\n",
      "  warnings.warn(DEPRECATION_MSG_1D, DeprecationWarning)\n",
      "/anaconda/lib/python3.6/site-packages/sklearn/preprocessing/data.py:649: DeprecationWarning: Passing 1d arrays as data is deprecated in 0.17 and will raise ValueError in 0.19. Reshape your data either using X.reshape(-1, 1) if your data has a single feature or X.reshape(1, -1) if it contains a single sample.\n",
      "  warnings.warn(DEPRECATION_MSG_1D, DeprecationWarning)\n",
      "/anaconda/lib/python3.6/site-packages/sklearn/utils/validation.py:429: DataConversionWarning: Data with input dtype int64 was converted to float64 by StandardScaler.\n",
      "  warnings.warn(msg, _DataConversionWarning)\n",
      "/anaconda/lib/python3.6/site-packages/sklearn/preprocessing/data.py:586: DeprecationWarning: Passing 1d arrays as data is deprecated in 0.17 and will raise ValueError in 0.19. Reshape your data either using X.reshape(-1, 1) if your data has a single feature or X.reshape(1, -1) if it contains a single sample.\n",
      "  warnings.warn(DEPRECATION_MSG_1D, DeprecationWarning)\n",
      "/anaconda/lib/python3.6/site-packages/sklearn/preprocessing/data.py:649: DeprecationWarning: Passing 1d arrays as data is deprecated in 0.17 and will raise ValueError in 0.19. Reshape your data either using X.reshape(-1, 1) if your data has a single feature or X.reshape(1, -1) if it contains a single sample.\n",
      "  warnings.warn(DEPRECATION_MSG_1D, DeprecationWarning)\n"
     ]
    }
   ],
   "source": [
    "df_numerical['total_distance'] = sc.fit_transform(df_numerical['total_distance'])\n",
    "df_numerical['total_travel_time'] = sc.fit_transform(df_numerical['total_travel_time'])\n",
    "df_numerical['number_of_steps'] = sc.fit_transform(df_numerical['number_of_steps'])"
   ]
  },
  {
   "cell_type": "markdown",
   "metadata": {},
   "source": [
    "# Seperate the dataframe back to training set and test set"
   ]
  },
  {
   "cell_type": "code",
   "execution_count": 57,
   "metadata": {
    "collapsed": true
   },
   "outputs": [],
   "source": [
    "train_numerical = df_numerical[df_numerical['source'] == 'train']\n",
    "test_numerical = df_numerical[df_numerical['source'] == 'test']"
   ]
  },
  {
   "cell_type": "code",
   "execution_count": 58,
   "metadata": {
    "collapsed": true
   },
   "outputs": [],
   "source": [
    "# train_numerical.to_csv('train_numerical001.csv', index=False)\n",
    "# test_numerical.to_csv('test_numerical001.csv', index=False)"
   ]
  },
  {
   "cell_type": "code",
   "execution_count": null,
   "metadata": {},
   "outputs": [],
   "source": []
  },
  {
   "cell_type": "code",
   "execution_count": 59,
   "metadata": {
    "collapsed": true
   },
   "outputs": [],
   "source": [
    "# list(test_numerical.columns)"
   ]
  },
  {
   "cell_type": "code",
   "execution_count": 75,
   "metadata": {
    "collapsed": true
   },
   "outputs": [],
   "source": [
    "X_train = train_numerical.drop(['trip_duration', 'source', 'id', 'starting_street', 'end_street', 'street_for_each_step', 'distance_per_step', 'travel_time_per_step', 'step_maneuvers', 'step_direction', 'step_location_list'], axis = 1)\n",
    "y_train = train_numerical['trip_duration']"
   ]
  },
  {
   "cell_type": "code",
   "execution_count": 76,
   "metadata": {},
   "outputs": [],
   "source": [
    "X_test = test_numerical.drop(['trip_duration', 'source', 'id', 'starting_street', 'end_street', 'street_for_each_step', 'distance_per_step', 'travel_time_per_step', 'step_maneuvers', 'step_direction', 'step_location_list'], axis = 1)"
   ]
  },
  {
   "cell_type": "code",
   "execution_count": 85,
   "metadata": {},
   "outputs": [
    {
     "data": {
      "text/plain": [
       "(625134, 364)"
      ]
     },
     "execution_count": 85,
     "metadata": {},
     "output_type": "execute_result"
    }
   ],
   "source": [
    "X_test.shape"
   ]
  },
  {
   "cell_type": "code",
   "execution_count": 61,
   "metadata": {},
   "outputs": [
    {
     "data": {
      "text/plain": [
       "(1365423,)"
      ]
     },
     "execution_count": 61,
     "metadata": {},
     "output_type": "execute_result"
    }
   ],
   "source": [
    "y_train.shape"
   ]
  },
  {
   "cell_type": "code",
   "execution_count": 62,
   "metadata": {
    "collapsed": true
   },
   "outputs": [],
   "source": [
    "#model = XGBRegressor(n_estimators = 220, max_depth = 8, learning_rate = 0.05)\n",
    "#model.fit(X_train, y_train)"
   ]
  },
  {
   "cell_type": "code",
   "execution_count": 63,
   "metadata": {
    "collapsed": true
   },
   "outputs": [],
   "source": [
    "#Plot features importance\n",
    "# ax = plot_importance(model)\n",
    "# fig = ax.figure\n",
    "# fig.set_size_inches(14, 16)"
   ]
  },
  {
   "cell_type": "markdown",
   "metadata": {},
   "source": [
    "# train_test_split the data"
   ]
  },
  {
   "cell_type": "code",
   "execution_count": 64,
   "metadata": {
    "collapsed": true
   },
   "outputs": [],
   "source": [
    "#defin error metrics\n",
    "def rmsle(predicted,real):\n",
    "    sum=0.0\n",
    "    for x in range(len(predicted)):\n",
    "        p = np.log(predicted[x]+1)\n",
    "        r = np.log(real[x]+1)\n",
    "        sum = sum + (p - r)**2\n",
    "    return (sum/len(predicted))**0.5"
   ]
  },
  {
   "cell_type": "code",
   "execution_count": 77,
   "metadata": {},
   "outputs": [],
   "source": [
    "# features = ['sc_distance', 'sc_dropoff_longitude', 'sc_dropoff_latitude', 'sc_pickup_latitude', 'sc_pickup_longitude', 'pickup_day_of_week_6', 'sc_direction', 'total_distance', 'total_travel_time', 'number_of_steps', 'vendor_id_1', 'vendor_id_2']\n",
    "# X = X_train[features]\n",
    "train_X, valid_X, train_y, valid_y = train_test_split(X_train, y_train, test_size=0.2, random_state=1)"
   ]
  },
  {
   "cell_type": "code",
   "execution_count": 86,
   "metadata": {},
   "outputs": [],
   "source": [
    "dtrain = xgb.DMatrix(train_X, label=train_y)\n",
    "dvalid = xgb.DMatrix(valid_X, label=valid_y)\n",
    "dtest = xgb.DMatrix(X_test)\n",
    "watchlist = [(dtrain, 'train'), (dvalid, 'valid')]\n",
    "xgb_pars = {'min_child_weight': 70, 'eta': 0.2, 'max_depth':10,\n",
    "            'subsample': 0.8, 'lambda': 1., 'nthread': -1, 'booster' : 'gbtree', 'silent': 1,\n",
    "            'eval_metric': 'rmse', 'objective': 'reg:linear'}"
   ]
  },
  {
   "cell_type": "code",
   "execution_count": 87,
   "metadata": {},
   "outputs": [
    {
     "name": "stdout",
     "output_type": "stream",
     "text": [
      "[0]\ttrain-rmse:787.267\tvalid-rmse:787.339\n",
      "Multiple eval metrics have been passed: 'valid-rmse' will be used for early stopping.\n",
      "\n",
      "Will train until valid-rmse hasn't improved in 50 rounds.\n",
      "[10]\ttrain-rmse:306.974\tvalid-rmse:309.47\n",
      "[20]\ttrain-rmse:276.882\tvalid-rmse:280.417\n",
      "[30]\ttrain-rmse:266.47\tvalid-rmse:270.846\n",
      "[40]\ttrain-rmse:260.391\tvalid-rmse:265.529\n",
      "[50]\ttrain-rmse:256.591\tvalid-rmse:262.66\n"
     ]
    }
   ],
   "source": [
    "model_new = xgb.train(xgb_pars, dtrain, 60, watchlist, early_stopping_rounds=50, maximize=False, verbose_eval=10)"
   ]
  },
  {
   "cell_type": "code",
   "execution_count": null,
   "metadata": {
    "collapsed": true
   },
   "outputs": [],
   "source": []
  },
  {
   "cell_type": "markdown",
   "metadata": {},
   "source": [
    "# Choose features according to feature_importance_, then fit and predict"
   ]
  },
  {
   "cell_type": "code",
   "execution_count": 301,
   "metadata": {
    "collapsed": true
   },
   "outputs": [],
   "source": [
    "# features = ['sc_distance', 'dropoff_latitude', 'pickup_day_of_week_6', 'sc_direction', 'total_distance', 'total_travel_time', 'number_of_steps']\n",
    "# target = ['trip_duration']"
   ]
  },
  {
   "cell_type": "code",
   "execution_count": 185,
   "metadata": {
    "collapsed": true
   },
   "outputs": [],
   "source": [
    "#model.fit(X_train[features], y_train)"
   ]
  },
  {
   "cell_type": "code",
   "execution_count": 154,
   "metadata": {
    "collapsed": true
   },
   "outputs": [],
   "source": [
    "#df_numerical['source'].value_counts()"
   ]
  },
  {
   "cell_type": "code",
   "execution_count": 88,
   "metadata": {
    "collapsed": true
   },
   "outputs": [],
   "source": [
    "#predictions = model.predict(test_numerical[features])\n",
    "predictions = model_new.predict(dtest)"
   ]
  },
  {
   "cell_type": "code",
   "execution_count": null,
   "metadata": {
    "collapsed": true
   },
   "outputs": [],
   "source": []
  },
  {
   "cell_type": "code",
   "execution_count": 89,
   "metadata": {
    "collapsed": true
   },
   "outputs": [],
   "source": [
    "predictions = np.absolute(predictions)"
   ]
  },
  {
   "cell_type": "code",
   "execution_count": 90,
   "metadata": {
    "collapsed": true
   },
   "outputs": [],
   "source": [
    "d = {'id': test_id, 'trip_duration': predictions}"
   ]
  },
  {
   "cell_type": "code",
   "execution_count": 91,
   "metadata": {
    "collapsed": true
   },
   "outputs": [],
   "source": [
    "submit = pd.DataFrame(data = d)"
   ]
  },
  {
   "cell_type": "code",
   "execution_count": 92,
   "metadata": {
    "collapsed": true
   },
   "outputs": [],
   "source": [
    "submit.to_csv(\"submit0831_002.csv\", index=False)"
   ]
  },
  {
   "cell_type": "code",
   "execution_count": 180,
   "metadata": {
    "collapsed": true
   },
   "outputs": [],
   "source": [
    "#submit[submit['trip_duration'] < 0]"
   ]
  },
  {
   "cell_type": "code",
   "execution_count": 181,
   "metadata": {
    "collapsed": true
   },
   "outputs": [],
   "source": [
    "#test[test['id'] == 'id0466318']"
   ]
  },
  {
   "cell_type": "code",
   "execution_count": null,
   "metadata": {
    "collapsed": true
   },
   "outputs": [],
   "source": []
  }
 ],
 "metadata": {
  "kernelspec": {
   "display_name": "Python 3",
   "language": "python",
   "name": "python3"
  },
  "language_info": {
   "codemirror_mode": {
    "name": "ipython",
    "version": 3
   },
   "file_extension": ".py",
   "mimetype": "text/x-python",
   "name": "python",
   "nbconvert_exporter": "python",
   "pygments_lexer": "ipython3",
   "version": "3.6.1"
  }
 },
 "nbformat": 4,
 "nbformat_minor": 2
}
